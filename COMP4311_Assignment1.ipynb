{
  "nbformat": 4,
  "nbformat_minor": 0,
  "metadata": {
    "colab": {
      "name": "COMP4311-Assignment1.ipynb",
      "provenance": [],
      "collapsed_sections": [],
      "mount_file_id": "12OnKKoBen1G9_6TTg9RERVSbiK-nLvs-",
      "authorship_tag": "ABX9TyOaPaYbaCH3bo2uX6VauIud",
      "include_colab_link": true
    },
    "kernelspec": {
      "name": "python3",
      "display_name": "Python 3"
    }
  },
  "cells": [
    {
      "cell_type": "markdown",
      "metadata": {
        "id": "view-in-github",
        "colab_type": "text"
      },
      "source": [
        "<a href=\"https://colab.research.google.com/github/Soupy1184/BigData-Assignment1/blob/main/COMP4311_Assignment1.ipynb\" target=\"_parent\"><img src=\"https://colab.research.google.com/assets/colab-badge.svg\" alt=\"Open In Colab\"/></a>"
      ]
    },
    {
      "cell_type": "markdown",
      "metadata": {
        "id": "FyRT3quWsmjI"
      },
      "source": [
        "Initial Setup"
      ]
    },
    {
      "cell_type": "code",
      "metadata": {
        "id": "ObNh9NOHJ9l_"
      },
      "source": [
        "# import \n",
        "import pandas as pd\n",
        "import numpy as np\n",
        "import math\n",
        "import random\n",
        "import sklearn\n",
        "from sklearn.model_selection import train_test_split\n",
        "from sklearn.metrics import mean_squared_error \n",
        "import array as arr \n"
      ],
      "execution_count": null,
      "outputs": []
    },
    {
      "cell_type": "code",
      "metadata": {
        "id": "Pwp1gikOJ_Yc"
      },
      "source": [
        "data = pd.read_csv('/content/drive/MyDrive/Colab Notebooks/data.csv')"
      ],
      "execution_count": null,
      "outputs": []
    },
    {
      "cell_type": "code",
      "metadata": {
        "colab": {
          "base_uri": "https://localhost:8080/"
        },
        "id": "I2dHJuiAKIPZ",
        "outputId": "d481b967-e60a-44cd-9d60-7345be73ba90"
      },
      "source": [
        "data.info()"
      ],
      "execution_count": null,
      "outputs": [
        {
          "output_type": "stream",
          "text": [
            "<class 'pandas.core.frame.DataFrame'>\n",
            "RangeIndex: 512 entries, 0 to 511\n",
            "Data columns (total 5 columns):\n",
            " #   Column   Non-Null Count  Dtype  \n",
            "---  ------   --------------  -----  \n",
            " 0   X1 Diff  512 non-null    float64\n",
            " 1   X2 Diff  512 non-null    float64\n",
            " 2   X3 Diff  512 non-null    float64\n",
            " 3   X4 Diff  512 non-null    float64\n",
            " 4   Odds     512 non-null    float64\n",
            "dtypes: float64(5)\n",
            "memory usage: 20.1 KB\n"
          ],
          "name": "stdout"
        }
      ]
    },
    {
      "cell_type": "code",
      "metadata": {
        "colab": {
          "base_uri": "https://localhost:8080/"
        },
        "id": "XPXBKMThKPwT",
        "outputId": "fce2b74b-882f-4313-f022-fd10d8b94a01"
      },
      "source": [
        "data.isnull().sum()"
      ],
      "execution_count": null,
      "outputs": [
        {
          "output_type": "execute_result",
          "data": {
            "text/plain": [
              "X1 Diff    0\n",
              "X2 Diff    0\n",
              "X3 Diff    0\n",
              "X4 Diff    0\n",
              "Odds       0\n",
              "dtype: int64"
            ]
          },
          "metadata": {
            "tags": []
          },
          "execution_count": 4
        }
      ]
    },
    {
      "cell_type": "code",
      "metadata": {
        "id": "2CTNBYPqKWgz"
      },
      "source": [
        "data_scaled = (data - data.min())/(data.max() - data.min())"
      ],
      "execution_count": null,
      "outputs": []
    },
    {
      "cell_type": "code",
      "metadata": {
        "id": "-aQEEVt-YwhX"
      },
      "source": [
        "data_scaled.to_csv('/content/drive/MyDrive/Colab Notebooks/data_scaled.csv')"
      ],
      "execution_count": null,
      "outputs": []
    },
    {
      "cell_type": "markdown",
      "metadata": {
        "id": "jwyu-U6fZ3JV"
      },
      "source": [
        "MEAN: \n",
        "- Missing data\n",
        "- Imputing data\n",
        "- Accuracy"
      ]
    },
    {
      "cell_type": "code",
      "metadata": {
        "id": "EW4_Hp_Lt9c9"
      },
      "source": [
        "data_scaled = pd.read_csv('/content/drive/MyDrive/Colab Notebooks/data_scaled.csv')"
      ],
      "execution_count": null,
      "outputs": []
    },
    {
      "cell_type": "code",
      "metadata": {
        "id": "ZnG9iXUJKhWp"
      },
      "source": [
        "test_scaled, train_scaled = sklearn.model_selection.train_test_split(data_scaled, train_size=256, test_size=256)"
      ],
      "execution_count": null,
      "outputs": []
    },
    {
      "cell_type": "code",
      "metadata": {
        "colab": {
          "base_uri": "https://localhost:8080/",
          "height": 204
        },
        "id": "JEUh3u2hK5-_",
        "outputId": "b7459b71-330e-448a-e1a4-c047722b90eb"
      },
      "source": [
        "data_accuracy = train_scaled.append(test_scaled)\n",
        "data_accuracy.head()"
      ],
      "execution_count": null,
      "outputs": [
        {
          "output_type": "execute_result",
          "data": {
            "text/html": [
              "<div>\n",
              "<style scoped>\n",
              "    .dataframe tbody tr th:only-of-type {\n",
              "        vertical-align: middle;\n",
              "    }\n",
              "\n",
              "    .dataframe tbody tr th {\n",
              "        vertical-align: top;\n",
              "    }\n",
              "\n",
              "    .dataframe thead th {\n",
              "        text-align: right;\n",
              "    }\n",
              "</style>\n",
              "<table border=\"1\" class=\"dataframe\">\n",
              "  <thead>\n",
              "    <tr style=\"text-align: right;\">\n",
              "      <th></th>\n",
              "      <th>Unnamed: 0</th>\n",
              "      <th>X1 Diff</th>\n",
              "      <th>X2 Diff</th>\n",
              "      <th>X3 Diff</th>\n",
              "      <th>X4 Diff</th>\n",
              "      <th>Odds</th>\n",
              "    </tr>\n",
              "  </thead>\n",
              "  <tbody>\n",
              "    <tr>\n",
              "      <th>81</th>\n",
              "      <td>81</td>\n",
              "      <td>0.355626</td>\n",
              "      <td>0.464122</td>\n",
              "      <td>0.412088</td>\n",
              "      <td>0.368891</td>\n",
              "      <td>0.355263</td>\n",
              "    </tr>\n",
              "    <tr>\n",
              "      <th>352</th>\n",
              "      <td>352</td>\n",
              "      <td>0.597134</td>\n",
              "      <td>0.544549</td>\n",
              "      <td>0.576923</td>\n",
              "      <td>0.611929</td>\n",
              "      <td>0.155263</td>\n",
              "    </tr>\n",
              "    <tr>\n",
              "      <th>284</th>\n",
              "      <td>284</td>\n",
              "      <td>0.588287</td>\n",
              "      <td>0.567570</td>\n",
              "      <td>0.651099</td>\n",
              "      <td>0.651077</td>\n",
              "      <td>0.123684</td>\n",
              "    </tr>\n",
              "    <tr>\n",
              "      <th>223</th>\n",
              "      <td>223</td>\n",
              "      <td>0.548832</td>\n",
              "      <td>0.504285</td>\n",
              "      <td>0.423077</td>\n",
              "      <td>0.503416</td>\n",
              "      <td>0.139474</td>\n",
              "    </tr>\n",
              "    <tr>\n",
              "      <th>119</th>\n",
              "      <td>119</td>\n",
              "      <td>0.447098</td>\n",
              "      <td>0.504285</td>\n",
              "      <td>0.565934</td>\n",
              "      <td>0.498686</td>\n",
              "      <td>0.176316</td>\n",
              "    </tr>\n",
              "  </tbody>\n",
              "</table>\n",
              "</div>"
            ],
            "text/plain": [
              "     Unnamed: 0   X1 Diff   X2 Diff   X3 Diff   X4 Diff      Odds\n",
              "81           81  0.355626  0.464122  0.412088  0.368891  0.355263\n",
              "352         352  0.597134  0.544549  0.576923  0.611929  0.155263\n",
              "284         284  0.588287  0.567570  0.651099  0.651077  0.123684\n",
              "223         223  0.548832  0.504285  0.423077  0.503416  0.139474\n",
              "119         119  0.447098  0.504285  0.565934  0.498686  0.176316"
            ]
          },
          "metadata": {
            "tags": []
          },
          "execution_count": 9
        }
      ]
    },
    {
      "cell_type": "markdown",
      "metadata": {
        "id": "lrBOzoGMRJ7v"
      },
      "source": [
        "CREATE MISSING DATA"
      ]
    },
    {
      "cell_type": "code",
      "metadata": {
        "id": "OeraxDcUaC0_",
        "colab": {
          "base_uri": "https://localhost:8080/",
          "height": 714
        },
        "outputId": "71ec0373-994a-4236-fee6-a263d7e9b028"
      },
      "source": [
        "#reset data_scaled and set a new set of random missing numbers for KNN(1)\n",
        "train_scaled['X1 Diff'] = train_scaled['X1 Diff'].sample(frac=0.50)\n",
        "train_scaled['X2 Diff'] = train_scaled['X2 Diff'].sample(frac=0.50)\n",
        "train_scaled['X3 Diff'] = train_scaled['X3 Diff'].sample(frac=0.50)\n",
        "train_scaled['X4 Diff'] = train_scaled['X4 Diff'].sample(frac=0.50)\n",
        "train_scaled['Odds'] = train_scaled['Odds'].sample(frac=0.50)\n",
        "train_scaled.head()"
      ],
      "execution_count": null,
      "outputs": [
        {
          "output_type": "stream",
          "text": [
            "/usr/local/lib/python3.6/dist-packages/ipykernel_launcher.py:2: SettingWithCopyWarning: \n",
            "A value is trying to be set on a copy of a slice from a DataFrame.\n",
            "Try using .loc[row_indexer,col_indexer] = value instead\n",
            "\n",
            "See the caveats in the documentation: https://pandas.pydata.org/pandas-docs/stable/user_guide/indexing.html#returning-a-view-versus-a-copy\n",
            "  \n",
            "/usr/local/lib/python3.6/dist-packages/ipykernel_launcher.py:3: SettingWithCopyWarning: \n",
            "A value is trying to be set on a copy of a slice from a DataFrame.\n",
            "Try using .loc[row_indexer,col_indexer] = value instead\n",
            "\n",
            "See the caveats in the documentation: https://pandas.pydata.org/pandas-docs/stable/user_guide/indexing.html#returning-a-view-versus-a-copy\n",
            "  This is separate from the ipykernel package so we can avoid doing imports until\n",
            "/usr/local/lib/python3.6/dist-packages/ipykernel_launcher.py:4: SettingWithCopyWarning: \n",
            "A value is trying to be set on a copy of a slice from a DataFrame.\n",
            "Try using .loc[row_indexer,col_indexer] = value instead\n",
            "\n",
            "See the caveats in the documentation: https://pandas.pydata.org/pandas-docs/stable/user_guide/indexing.html#returning-a-view-versus-a-copy\n",
            "  after removing the cwd from sys.path.\n",
            "/usr/local/lib/python3.6/dist-packages/ipykernel_launcher.py:5: SettingWithCopyWarning: \n",
            "A value is trying to be set on a copy of a slice from a DataFrame.\n",
            "Try using .loc[row_indexer,col_indexer] = value instead\n",
            "\n",
            "See the caveats in the documentation: https://pandas.pydata.org/pandas-docs/stable/user_guide/indexing.html#returning-a-view-versus-a-copy\n",
            "  \"\"\"\n",
            "/usr/local/lib/python3.6/dist-packages/ipykernel_launcher.py:6: SettingWithCopyWarning: \n",
            "A value is trying to be set on a copy of a slice from a DataFrame.\n",
            "Try using .loc[row_indexer,col_indexer] = value instead\n",
            "\n",
            "See the caveats in the documentation: https://pandas.pydata.org/pandas-docs/stable/user_guide/indexing.html#returning-a-view-versus-a-copy\n",
            "  \n"
          ],
          "name": "stderr"
        },
        {
          "output_type": "execute_result",
          "data": {
            "text/html": [
              "<div>\n",
              "<style scoped>\n",
              "    .dataframe tbody tr th:only-of-type {\n",
              "        vertical-align: middle;\n",
              "    }\n",
              "\n",
              "    .dataframe tbody tr th {\n",
              "        vertical-align: top;\n",
              "    }\n",
              "\n",
              "    .dataframe thead th {\n",
              "        text-align: right;\n",
              "    }\n",
              "</style>\n",
              "<table border=\"1\" class=\"dataframe\">\n",
              "  <thead>\n",
              "    <tr style=\"text-align: right;\">\n",
              "      <th></th>\n",
              "      <th>Unnamed: 0</th>\n",
              "      <th>X1 Diff</th>\n",
              "      <th>X2 Diff</th>\n",
              "      <th>X3 Diff</th>\n",
              "      <th>X4 Diff</th>\n",
              "      <th>Odds</th>\n",
              "    </tr>\n",
              "  </thead>\n",
              "  <tbody>\n",
              "    <tr>\n",
              "      <th>81</th>\n",
              "      <td>81</td>\n",
              "      <td>NaN</td>\n",
              "      <td>NaN</td>\n",
              "      <td>0.412088</td>\n",
              "      <td>0.368891</td>\n",
              "      <td>NaN</td>\n",
              "    </tr>\n",
              "    <tr>\n",
              "      <th>352</th>\n",
              "      <td>352</td>\n",
              "      <td>0.597134</td>\n",
              "      <td>0.544549</td>\n",
              "      <td>NaN</td>\n",
              "      <td>0.611929</td>\n",
              "      <td>NaN</td>\n",
              "    </tr>\n",
              "    <tr>\n",
              "      <th>284</th>\n",
              "      <td>284</td>\n",
              "      <td>0.588287</td>\n",
              "      <td>0.567570</td>\n",
              "      <td>NaN</td>\n",
              "      <td>0.651077</td>\n",
              "      <td>NaN</td>\n",
              "    </tr>\n",
              "    <tr>\n",
              "      <th>223</th>\n",
              "      <td>223</td>\n",
              "      <td>NaN</td>\n",
              "      <td>0.504285</td>\n",
              "      <td>0.423077</td>\n",
              "      <td>0.503416</td>\n",
              "      <td>NaN</td>\n",
              "    </tr>\n",
              "    <tr>\n",
              "      <th>119</th>\n",
              "      <td>119</td>\n",
              "      <td>NaN</td>\n",
              "      <td>NaN</td>\n",
              "      <td>NaN</td>\n",
              "      <td>NaN</td>\n",
              "      <td>0.176316</td>\n",
              "    </tr>\n",
              "  </tbody>\n",
              "</table>\n",
              "</div>"
            ],
            "text/plain": [
              "     Unnamed: 0   X1 Diff   X2 Diff   X3 Diff   X4 Diff      Odds\n",
              "81           81       NaN       NaN  0.412088  0.368891       NaN\n",
              "352         352  0.597134  0.544549       NaN  0.611929       NaN\n",
              "284         284  0.588287  0.567570       NaN  0.651077       NaN\n",
              "223         223       NaN  0.504285  0.423077  0.503416       NaN\n",
              "119         119       NaN       NaN       NaN       NaN  0.176316"
            ]
          },
          "metadata": {
            "tags": []
          },
          "execution_count": 10
        }
      ]
    },
    {
      "cell_type": "code",
      "metadata": {
        "colab": {
          "base_uri": "https://localhost:8080/",
          "height": 714
        },
        "id": "I6q1caWmQRVR",
        "outputId": "b950b492-0b94-43c8-bbc9-6eb14372d779"
      },
      "source": [
        "#replace missing data by mean\n",
        "train_scaled['X1 Diff'] = [test_scaled['X1 Diff'].mean() if math.isnan(x) else x for x in train_scaled['X1 Diff']]\n",
        "train_scaled['X2 Diff'] = [test_scaled['X2 Diff'].mean() if math.isnan(x) else x for x in train_scaled['X2 Diff']]\n",
        "train_scaled['X3 Diff'] = [test_scaled['X3 Diff'].mean() if math.isnan(x) else x for x in train_scaled['X3 Diff']]\n",
        "train_scaled['X4 Diff'] = [test_scaled['X4 Diff'].mean() if math.isnan(x) else x for x in train_scaled['X4 Diff']]\n",
        "train_scaled['Odds'] = [test_scaled['Odds'].mean() if math.isnan(x) else x for x in train_scaled['Odds']]\n",
        "train_scaled.head()\n"
      ],
      "execution_count": null,
      "outputs": [
        {
          "output_type": "stream",
          "text": [
            "/usr/local/lib/python3.6/dist-packages/ipykernel_launcher.py:2: SettingWithCopyWarning: \n",
            "A value is trying to be set on a copy of a slice from a DataFrame.\n",
            "Try using .loc[row_indexer,col_indexer] = value instead\n",
            "\n",
            "See the caveats in the documentation: https://pandas.pydata.org/pandas-docs/stable/user_guide/indexing.html#returning-a-view-versus-a-copy\n",
            "  \n",
            "/usr/local/lib/python3.6/dist-packages/ipykernel_launcher.py:3: SettingWithCopyWarning: \n",
            "A value is trying to be set on a copy of a slice from a DataFrame.\n",
            "Try using .loc[row_indexer,col_indexer] = value instead\n",
            "\n",
            "See the caveats in the documentation: https://pandas.pydata.org/pandas-docs/stable/user_guide/indexing.html#returning-a-view-versus-a-copy\n",
            "  This is separate from the ipykernel package so we can avoid doing imports until\n",
            "/usr/local/lib/python3.6/dist-packages/ipykernel_launcher.py:4: SettingWithCopyWarning: \n",
            "A value is trying to be set on a copy of a slice from a DataFrame.\n",
            "Try using .loc[row_indexer,col_indexer] = value instead\n",
            "\n",
            "See the caveats in the documentation: https://pandas.pydata.org/pandas-docs/stable/user_guide/indexing.html#returning-a-view-versus-a-copy\n",
            "  after removing the cwd from sys.path.\n",
            "/usr/local/lib/python3.6/dist-packages/ipykernel_launcher.py:5: SettingWithCopyWarning: \n",
            "A value is trying to be set on a copy of a slice from a DataFrame.\n",
            "Try using .loc[row_indexer,col_indexer] = value instead\n",
            "\n",
            "See the caveats in the documentation: https://pandas.pydata.org/pandas-docs/stable/user_guide/indexing.html#returning-a-view-versus-a-copy\n",
            "  \"\"\"\n",
            "/usr/local/lib/python3.6/dist-packages/ipykernel_launcher.py:6: SettingWithCopyWarning: \n",
            "A value is trying to be set on a copy of a slice from a DataFrame.\n",
            "Try using .loc[row_indexer,col_indexer] = value instead\n",
            "\n",
            "See the caveats in the documentation: https://pandas.pydata.org/pandas-docs/stable/user_guide/indexing.html#returning-a-view-versus-a-copy\n",
            "  \n"
          ],
          "name": "stderr"
        },
        {
          "output_type": "execute_result",
          "data": {
            "text/html": [
              "<div>\n",
              "<style scoped>\n",
              "    .dataframe tbody tr th:only-of-type {\n",
              "        vertical-align: middle;\n",
              "    }\n",
              "\n",
              "    .dataframe tbody tr th {\n",
              "        vertical-align: top;\n",
              "    }\n",
              "\n",
              "    .dataframe thead th {\n",
              "        text-align: right;\n",
              "    }\n",
              "</style>\n",
              "<table border=\"1\" class=\"dataframe\">\n",
              "  <thead>\n",
              "    <tr style=\"text-align: right;\">\n",
              "      <th></th>\n",
              "      <th>Unnamed: 0</th>\n",
              "      <th>X1 Diff</th>\n",
              "      <th>X2 Diff</th>\n",
              "      <th>X3 Diff</th>\n",
              "      <th>X4 Diff</th>\n",
              "      <th>Odds</th>\n",
              "    </tr>\n",
              "  </thead>\n",
              "  <tbody>\n",
              "    <tr>\n",
              "      <th>81</th>\n",
              "      <td>81</td>\n",
              "      <td>0.498399</td>\n",
              "      <td>0.493731</td>\n",
              "      <td>0.412088</td>\n",
              "      <td>0.368891</td>\n",
              "      <td>0.248540</td>\n",
              "    </tr>\n",
              "    <tr>\n",
              "      <th>352</th>\n",
              "      <td>352</td>\n",
              "      <td>0.597134</td>\n",
              "      <td>0.544549</td>\n",
              "      <td>0.487026</td>\n",
              "      <td>0.611929</td>\n",
              "      <td>0.248540</td>\n",
              "    </tr>\n",
              "    <tr>\n",
              "      <th>284</th>\n",
              "      <td>284</td>\n",
              "      <td>0.588287</td>\n",
              "      <td>0.567570</td>\n",
              "      <td>0.487026</td>\n",
              "      <td>0.651077</td>\n",
              "      <td>0.248540</td>\n",
              "    </tr>\n",
              "    <tr>\n",
              "      <th>223</th>\n",
              "      <td>223</td>\n",
              "      <td>0.498399</td>\n",
              "      <td>0.504285</td>\n",
              "      <td>0.423077</td>\n",
              "      <td>0.503416</td>\n",
              "      <td>0.248540</td>\n",
              "    </tr>\n",
              "    <tr>\n",
              "      <th>119</th>\n",
              "      <td>119</td>\n",
              "      <td>0.498399</td>\n",
              "      <td>0.493731</td>\n",
              "      <td>0.487026</td>\n",
              "      <td>0.489564</td>\n",
              "      <td>0.176316</td>\n",
              "    </tr>\n",
              "  </tbody>\n",
              "</table>\n",
              "</div>"
            ],
            "text/plain": [
              "     Unnamed: 0   X1 Diff   X2 Diff   X3 Diff   X4 Diff      Odds\n",
              "81           81  0.498399  0.493731  0.412088  0.368891  0.248540\n",
              "352         352  0.597134  0.544549  0.487026  0.611929  0.248540\n",
              "284         284  0.588287  0.567570  0.487026  0.651077  0.248540\n",
              "223         223  0.498399  0.504285  0.423077  0.503416  0.248540\n",
              "119         119  0.498399  0.493731  0.487026  0.489564  0.176316"
            ]
          },
          "metadata": {
            "tags": []
          },
          "execution_count": 11
        }
      ]
    },
    {
      "cell_type": "code",
      "metadata": {
        "colab": {
          "base_uri": "https://localhost:8080/"
        },
        "id": "ckLri5HwRR0N",
        "outputId": "2f067338-6e35-4c04-9015-aace5b8ac785"
      },
      "source": [
        "train_scaled.isnull().sum()"
      ],
      "execution_count": null,
      "outputs": [
        {
          "output_type": "execute_result",
          "data": {
            "text/plain": [
              "Unnamed: 0    0\n",
              "X1 Diff       0\n",
              "X2 Diff       0\n",
              "X3 Diff       0\n",
              "X4 Diff       0\n",
              "Odds          0\n",
              "dtype: int64"
            ]
          },
          "metadata": {
            "tags": []
          },
          "execution_count": 12
        }
      ]
    },
    {
      "cell_type": "code",
      "metadata": {
        "id": "31MsasXop7-w",
        "colab": {
          "base_uri": "https://localhost:8080/",
          "height": 204
        },
        "outputId": "9b507038-5f62-4298-95e6-0d99b0735dcf"
      },
      "source": [
        "result = train_scaled.append(test_scaled)\n",
        "result.head()"
      ],
      "execution_count": null,
      "outputs": [
        {
          "output_type": "execute_result",
          "data": {
            "text/html": [
              "<div>\n",
              "<style scoped>\n",
              "    .dataframe tbody tr th:only-of-type {\n",
              "        vertical-align: middle;\n",
              "    }\n",
              "\n",
              "    .dataframe tbody tr th {\n",
              "        vertical-align: top;\n",
              "    }\n",
              "\n",
              "    .dataframe thead th {\n",
              "        text-align: right;\n",
              "    }\n",
              "</style>\n",
              "<table border=\"1\" class=\"dataframe\">\n",
              "  <thead>\n",
              "    <tr style=\"text-align: right;\">\n",
              "      <th></th>\n",
              "      <th>Unnamed: 0</th>\n",
              "      <th>X1 Diff</th>\n",
              "      <th>X2 Diff</th>\n",
              "      <th>X3 Diff</th>\n",
              "      <th>X4 Diff</th>\n",
              "      <th>Odds</th>\n",
              "    </tr>\n",
              "  </thead>\n",
              "  <tbody>\n",
              "    <tr>\n",
              "      <th>81</th>\n",
              "      <td>81</td>\n",
              "      <td>0.498399</td>\n",
              "      <td>0.493731</td>\n",
              "      <td>0.412088</td>\n",
              "      <td>0.368891</td>\n",
              "      <td>0.248540</td>\n",
              "    </tr>\n",
              "    <tr>\n",
              "      <th>352</th>\n",
              "      <td>352</td>\n",
              "      <td>0.597134</td>\n",
              "      <td>0.544549</td>\n",
              "      <td>0.487026</td>\n",
              "      <td>0.611929</td>\n",
              "      <td>0.248540</td>\n",
              "    </tr>\n",
              "    <tr>\n",
              "      <th>284</th>\n",
              "      <td>284</td>\n",
              "      <td>0.588287</td>\n",
              "      <td>0.567570</td>\n",
              "      <td>0.487026</td>\n",
              "      <td>0.651077</td>\n",
              "      <td>0.248540</td>\n",
              "    </tr>\n",
              "    <tr>\n",
              "      <th>223</th>\n",
              "      <td>223</td>\n",
              "      <td>0.498399</td>\n",
              "      <td>0.504285</td>\n",
              "      <td>0.423077</td>\n",
              "      <td>0.503416</td>\n",
              "      <td>0.248540</td>\n",
              "    </tr>\n",
              "    <tr>\n",
              "      <th>119</th>\n",
              "      <td>119</td>\n",
              "      <td>0.498399</td>\n",
              "      <td>0.493731</td>\n",
              "      <td>0.487026</td>\n",
              "      <td>0.489564</td>\n",
              "      <td>0.176316</td>\n",
              "    </tr>\n",
              "  </tbody>\n",
              "</table>\n",
              "</div>"
            ],
            "text/plain": [
              "     Unnamed: 0   X1 Diff   X2 Diff   X3 Diff   X4 Diff      Odds\n",
              "81           81  0.498399  0.493731  0.412088  0.368891  0.248540\n",
              "352         352  0.597134  0.544549  0.487026  0.611929  0.248540\n",
              "284         284  0.588287  0.567570  0.487026  0.651077  0.248540\n",
              "223         223  0.498399  0.504285  0.423077  0.503416  0.248540\n",
              "119         119  0.498399  0.493731  0.487026  0.489564  0.176316"
            ]
          },
          "metadata": {
            "tags": []
          },
          "execution_count": 13
        }
      ]
    },
    {
      "cell_type": "markdown",
      "metadata": {
        "id": "PXIOXwkqRWUB"
      },
      "source": [
        "CALCULAT MSE"
      ]
    },
    {
      "cell_type": "code",
      "metadata": {
        "id": "zLgiaVh9adZz",
        "colab": {
          "base_uri": "https://localhost:8080/"
        },
        "outputId": "d874f1ca-45b9-4b94-ebcd-7953086b3463"
      },
      "source": [
        "#calculate accruacy for KNN(1)\n",
        "#result and data_accuracy\n",
        "mse = 0\n",
        "\n",
        "for i in range (0, 512):\n",
        "  observed = data_accuracy[['X1 Diff', 'X2 Diff', 'X3 Diff', 'X4 Diff', 'Odds']].iloc[i].values\n",
        "  predicted = result[['X1 Diff', 'X2 Diff', 'X3 Diff', 'X4 Diff', 'Odds']].iloc[i].values\n",
        "  \n",
        "  for x in range (0, 5):\n",
        "    mse += ((observed[x] - predicted[x])**2) \n",
        "\n",
        "mse = mse * (1/len(result))   \n",
        "  \n",
        "print(mse)"
      ],
      "execution_count": null,
      "outputs": [
        {
          "output_type": "stream",
          "text": [
            "0.019313048899641264\n"
          ],
          "name": "stdout"
        }
      ]
    },
    {
      "cell_type": "markdown",
      "metadata": {
        "id": "Xz_jCQXkajbX"
      },
      "source": [
        "KNN (1):\n",
        "- Missing data\n",
        "- Imputing data\n",
        "- Accuracy"
      ]
    },
    {
      "cell_type": "code",
      "metadata": {
        "id": "zAXWu1IEZ0_S"
      },
      "source": [
        "data_scaled = pd.read_csv('/content/drive/MyDrive/Colab Notebooks/data_scaled.csv')"
      ],
      "execution_count": null,
      "outputs": []
    },
    {
      "cell_type": "code",
      "metadata": {
        "id": "zp5erNCkZ3qn"
      },
      "source": [
        "test_scaled, train_scaled = sklearn.model_selection.train_test_split(data_scaled, train_size=256, test_size=256)"
      ],
      "execution_count": null,
      "outputs": []
    },
    {
      "cell_type": "code",
      "metadata": {
        "colab": {
          "base_uri": "https://localhost:8080/",
          "height": 204
        },
        "id": "VeBk6F3NRiht",
        "outputId": "6c3c4e22-2bd6-402e-eaf8-9036f979595c"
      },
      "source": [
        "data_accuracy = train_scaled.append(test_scaled)\n",
        "data_accuracy.head()"
      ],
      "execution_count": null,
      "outputs": [
        {
          "output_type": "execute_result",
          "data": {
            "text/html": [
              "<div>\n",
              "<style scoped>\n",
              "    .dataframe tbody tr th:only-of-type {\n",
              "        vertical-align: middle;\n",
              "    }\n",
              "\n",
              "    .dataframe tbody tr th {\n",
              "        vertical-align: top;\n",
              "    }\n",
              "\n",
              "    .dataframe thead th {\n",
              "        text-align: right;\n",
              "    }\n",
              "</style>\n",
              "<table border=\"1\" class=\"dataframe\">\n",
              "  <thead>\n",
              "    <tr style=\"text-align: right;\">\n",
              "      <th></th>\n",
              "      <th>Unnamed: 0</th>\n",
              "      <th>X1 Diff</th>\n",
              "      <th>X2 Diff</th>\n",
              "      <th>X3 Diff</th>\n",
              "      <th>X4 Diff</th>\n",
              "      <th>Odds</th>\n",
              "    </tr>\n",
              "  </thead>\n",
              "  <tbody>\n",
              "    <tr>\n",
              "      <th>73</th>\n",
              "      <td>73</td>\n",
              "      <td>0.324133</td>\n",
              "      <td>0.440004</td>\n",
              "      <td>0.524725</td>\n",
              "      <td>0.368103</td>\n",
              "      <td>0.355263</td>\n",
              "    </tr>\n",
              "    <tr>\n",
              "      <th>40</th>\n",
              "      <td>40</td>\n",
              "      <td>0.567233</td>\n",
              "      <td>0.676500</td>\n",
              "      <td>0.947802</td>\n",
              "      <td>0.831056</td>\n",
              "      <td>0.202632</td>\n",
              "    </tr>\n",
              "    <tr>\n",
              "      <th>79</th>\n",
              "      <td>79</td>\n",
              "      <td>0.660828</td>\n",
              "      <td>0.429540</td>\n",
              "      <td>0.285714</td>\n",
              "      <td>0.449291</td>\n",
              "      <td>0.236842</td>\n",
              "    </tr>\n",
              "    <tr>\n",
              "      <th>286</th>\n",
              "      <td>286</td>\n",
              "      <td>0.573956</td>\n",
              "      <td>0.514451</td>\n",
              "      <td>0.557692</td>\n",
              "      <td>0.567788</td>\n",
              "      <td>0.213158</td>\n",
              "    </tr>\n",
              "    <tr>\n",
              "      <th>372</th>\n",
              "      <td>372</td>\n",
              "      <td>0.598018</td>\n",
              "      <td>0.431832</td>\n",
              "      <td>0.414835</td>\n",
              "      <td>0.461377</td>\n",
              "      <td>0.144737</td>\n",
              "    </tr>\n",
              "  </tbody>\n",
              "</table>\n",
              "</div>"
            ],
            "text/plain": [
              "     Unnamed: 0   X1 Diff   X2 Diff   X3 Diff   X4 Diff      Odds\n",
              "73           73  0.324133  0.440004  0.524725  0.368103  0.355263\n",
              "40           40  0.567233  0.676500  0.947802  0.831056  0.202632\n",
              "79           79  0.660828  0.429540  0.285714  0.449291  0.236842\n",
              "286         286  0.573956  0.514451  0.557692  0.567788  0.213158\n",
              "372         372  0.598018  0.431832  0.414835  0.461377  0.144737"
            ]
          },
          "metadata": {
            "tags": []
          },
          "execution_count": 17
        }
      ]
    },
    {
      "cell_type": "code",
      "metadata": {
        "id": "mEAt4H6NeM1F"
      },
      "source": [
        "def euclidDis(a, b):\n",
        "  sum = 0\n",
        "  for x, y in zip(a, b):\n",
        "    if math.isnan(x):\n",
        "      pass\n",
        "    else:\n",
        "      sum += (x - y)**2\n",
        "      \n",
        "  return math.sqrt(sum)"
      ],
      "execution_count": null,
      "outputs": []
    },
    {
      "cell_type": "markdown",
      "metadata": {
        "id": "uZGK5STYRle6"
      },
      "source": [
        "CREATE MISSING DATA"
      ]
    },
    {
      "cell_type": "code",
      "metadata": {
        "colab": {
          "base_uri": "https://localhost:8080/",
          "height": 714
        },
        "id": "hI9QSvQpW6sq",
        "outputId": "912b6dd6-836a-477b-cb72-98845940a0f1"
      },
      "source": [
        "#reset data_scaled and set a new set of random missing numbers for KNN(1)\n",
        "train_scaled['X1 Diff'] = train_scaled['X1 Diff'].sample(frac=0.50)\n",
        "train_scaled['X2 Diff'] = train_scaled['X2 Diff'].sample(frac=0.50)\n",
        "train_scaled['X3 Diff'] = train_scaled['X3 Diff'].sample(frac=0.50)\n",
        "train_scaled['X4 Diff'] = train_scaled['X4 Diff'].sample(frac=0.50)\n",
        "train_scaled['Odds'] = train_scaled['Odds'].sample(frac=0.50)\n",
        "train_scaled.head()"
      ],
      "execution_count": null,
      "outputs": [
        {
          "output_type": "stream",
          "text": [
            "/usr/local/lib/python3.6/dist-packages/ipykernel_launcher.py:2: SettingWithCopyWarning: \n",
            "A value is trying to be set on a copy of a slice from a DataFrame.\n",
            "Try using .loc[row_indexer,col_indexer] = value instead\n",
            "\n",
            "See the caveats in the documentation: https://pandas.pydata.org/pandas-docs/stable/user_guide/indexing.html#returning-a-view-versus-a-copy\n",
            "  \n",
            "/usr/local/lib/python3.6/dist-packages/ipykernel_launcher.py:3: SettingWithCopyWarning: \n",
            "A value is trying to be set on a copy of a slice from a DataFrame.\n",
            "Try using .loc[row_indexer,col_indexer] = value instead\n",
            "\n",
            "See the caveats in the documentation: https://pandas.pydata.org/pandas-docs/stable/user_guide/indexing.html#returning-a-view-versus-a-copy\n",
            "  This is separate from the ipykernel package so we can avoid doing imports until\n",
            "/usr/local/lib/python3.6/dist-packages/ipykernel_launcher.py:4: SettingWithCopyWarning: \n",
            "A value is trying to be set on a copy of a slice from a DataFrame.\n",
            "Try using .loc[row_indexer,col_indexer] = value instead\n",
            "\n",
            "See the caveats in the documentation: https://pandas.pydata.org/pandas-docs/stable/user_guide/indexing.html#returning-a-view-versus-a-copy\n",
            "  after removing the cwd from sys.path.\n",
            "/usr/local/lib/python3.6/dist-packages/ipykernel_launcher.py:5: SettingWithCopyWarning: \n",
            "A value is trying to be set on a copy of a slice from a DataFrame.\n",
            "Try using .loc[row_indexer,col_indexer] = value instead\n",
            "\n",
            "See the caveats in the documentation: https://pandas.pydata.org/pandas-docs/stable/user_guide/indexing.html#returning-a-view-versus-a-copy\n",
            "  \"\"\"\n",
            "/usr/local/lib/python3.6/dist-packages/ipykernel_launcher.py:6: SettingWithCopyWarning: \n",
            "A value is trying to be set on a copy of a slice from a DataFrame.\n",
            "Try using .loc[row_indexer,col_indexer] = value instead\n",
            "\n",
            "See the caveats in the documentation: https://pandas.pydata.org/pandas-docs/stable/user_guide/indexing.html#returning-a-view-versus-a-copy\n",
            "  \n"
          ],
          "name": "stderr"
        },
        {
          "output_type": "execute_result",
          "data": {
            "text/html": [
              "<div>\n",
              "<style scoped>\n",
              "    .dataframe tbody tr th:only-of-type {\n",
              "        vertical-align: middle;\n",
              "    }\n",
              "\n",
              "    .dataframe tbody tr th {\n",
              "        vertical-align: top;\n",
              "    }\n",
              "\n",
              "    .dataframe thead th {\n",
              "        text-align: right;\n",
              "    }\n",
              "</style>\n",
              "<table border=\"1\" class=\"dataframe\">\n",
              "  <thead>\n",
              "    <tr style=\"text-align: right;\">\n",
              "      <th></th>\n",
              "      <th>Unnamed: 0</th>\n",
              "      <th>X1 Diff</th>\n",
              "      <th>X2 Diff</th>\n",
              "      <th>X3 Diff</th>\n",
              "      <th>X4 Diff</th>\n",
              "      <th>Odds</th>\n",
              "    </tr>\n",
              "  </thead>\n",
              "  <tbody>\n",
              "    <tr>\n",
              "      <th>73</th>\n",
              "      <td>73</td>\n",
              "      <td>0.324133</td>\n",
              "      <td>0.440004</td>\n",
              "      <td>NaN</td>\n",
              "      <td>0.368103</td>\n",
              "      <td>0.355263</td>\n",
              "    </tr>\n",
              "    <tr>\n",
              "      <th>40</th>\n",
              "      <td>40</td>\n",
              "      <td>NaN</td>\n",
              "      <td>0.676500</td>\n",
              "      <td>NaN</td>\n",
              "      <td>0.831056</td>\n",
              "      <td>0.202632</td>\n",
              "    </tr>\n",
              "    <tr>\n",
              "      <th>79</th>\n",
              "      <td>79</td>\n",
              "      <td>NaN</td>\n",
              "      <td>0.429540</td>\n",
              "      <td>0.285714</td>\n",
              "      <td>NaN</td>\n",
              "      <td>0.236842</td>\n",
              "    </tr>\n",
              "    <tr>\n",
              "      <th>286</th>\n",
              "      <td>286</td>\n",
              "      <td>0.573956</td>\n",
              "      <td>NaN</td>\n",
              "      <td>NaN</td>\n",
              "      <td>NaN</td>\n",
              "      <td>0.213158</td>\n",
              "    </tr>\n",
              "    <tr>\n",
              "      <th>372</th>\n",
              "      <td>372</td>\n",
              "      <td>NaN</td>\n",
              "      <td>NaN</td>\n",
              "      <td>0.414835</td>\n",
              "      <td>NaN</td>\n",
              "      <td>0.144737</td>\n",
              "    </tr>\n",
              "  </tbody>\n",
              "</table>\n",
              "</div>"
            ],
            "text/plain": [
              "     Unnamed: 0   X1 Diff   X2 Diff   X3 Diff   X4 Diff      Odds\n",
              "73           73  0.324133  0.440004       NaN  0.368103  0.355263\n",
              "40           40       NaN  0.676500       NaN  0.831056  0.202632\n",
              "79           79       NaN  0.429540  0.285714       NaN  0.236842\n",
              "286         286  0.573956       NaN       NaN       NaN  0.213158\n",
              "372         372       NaN       NaN  0.414835       NaN  0.144737"
            ]
          },
          "metadata": {
            "tags": []
          },
          "execution_count": 19
        }
      ]
    },
    {
      "cell_type": "markdown",
      "metadata": {
        "id": "vY3B2hvNRv4j"
      },
      "source": [
        "IMPUTE MISSING DATA"
      ]
    },
    {
      "cell_type": "code",
      "metadata": {
        "id": "i9YSrLWoZ07O",
        "colab": {
          "base_uri": "https://localhost:8080/"
        },
        "outputId": "d1824ea3-254b-47bc-c3dd-918827f42d9f"
      },
      "source": [
        "#replace missing data for KNN(1)\n",
        "\n",
        "for i in range (0, 256):\n",
        "  row = train_scaled[['X1 Diff', 'X2 Diff', 'X3 Diff', 'X4 Diff', 'Odds']].iloc[i].values\n",
        "  distance = []\n",
        "  count = 0\n",
        "  for j in test_scaled[['X1 Diff', 'X2 Diff', 'X3 Diff', 'X4 Diff', 'Odds']].values:\n",
        "    distance.append(euclidDis(row, j))\n",
        "    \n",
        "  m = test_scaled[['X1 Diff', 'X2 Diff', 'X3 Diff', 'X4 Diff', 'Odds']].iloc[distance.index(min(distance))].values\n",
        "  \n",
        "  for x in range (0, 5):\n",
        "    if math.isnan(row[x]):\n",
        "      row[x] = m[x]\n",
        "\n",
        "  train_scaled['X1 Diff'].iloc[i] = row[0]\n",
        "  train_scaled['X2 Diff'].iloc[i] = row[1]\n",
        "  train_scaled['X3 Diff'].iloc[i] = row[2]\n",
        "  train_scaled['X4 Diff'].iloc[i] = row[3]\n",
        "  train_scaled['Odds'].iloc[i] = row[4]\n",
        "\n",
        "# print(distance)"
      ],
      "execution_count": null,
      "outputs": [
        {
          "output_type": "stream",
          "text": [
            "/usr/local/lib/python3.6/dist-packages/pandas/core/indexing.py:670: SettingWithCopyWarning: \n",
            "A value is trying to be set on a copy of a slice from a DataFrame\n",
            "\n",
            "See the caveats in the documentation: https://pandas.pydata.org/pandas-docs/stable/user_guide/indexing.html#returning-a-view-versus-a-copy\n",
            "  iloc._setitem_with_indexer(indexer, value)\n",
            "/usr/local/lib/python3.6/dist-packages/ipykernel_launcher.py:16: SettingWithCopyWarning: \n",
            "A value is trying to be set on a copy of a slice from a DataFrame\n",
            "\n",
            "See the caveats in the documentation: https://pandas.pydata.org/pandas-docs/stable/user_guide/indexing.html#returning-a-view-versus-a-copy\n",
            "  app.launch_new_instance()\n",
            "/usr/local/lib/python3.6/dist-packages/ipykernel_launcher.py:17: SettingWithCopyWarning: \n",
            "A value is trying to be set on a copy of a slice from a DataFrame\n",
            "\n",
            "See the caveats in the documentation: https://pandas.pydata.org/pandas-docs/stable/user_guide/indexing.html#returning-a-view-versus-a-copy\n",
            "/usr/local/lib/python3.6/dist-packages/ipykernel_launcher.py:18: SettingWithCopyWarning: \n",
            "A value is trying to be set on a copy of a slice from a DataFrame\n",
            "\n",
            "See the caveats in the documentation: https://pandas.pydata.org/pandas-docs/stable/user_guide/indexing.html#returning-a-view-versus-a-copy\n",
            "/usr/local/lib/python3.6/dist-packages/ipykernel_launcher.py:19: SettingWithCopyWarning: \n",
            "A value is trying to be set on a copy of a slice from a DataFrame\n",
            "\n",
            "See the caveats in the documentation: https://pandas.pydata.org/pandas-docs/stable/user_guide/indexing.html#returning-a-view-versus-a-copy\n",
            "/usr/local/lib/python3.6/dist-packages/ipykernel_launcher.py:20: SettingWithCopyWarning: \n",
            "A value is trying to be set on a copy of a slice from a DataFrame\n",
            "\n",
            "See the caveats in the documentation: https://pandas.pydata.org/pandas-docs/stable/user_guide/indexing.html#returning-a-view-versus-a-copy\n"
          ],
          "name": "stderr"
        }
      ]
    },
    {
      "cell_type": "code",
      "metadata": {
        "colab": {
          "base_uri": "https://localhost:8080/"
        },
        "id": "T64UbpuFffkn",
        "outputId": "f88ee6aa-3389-411b-e638-af92e26b2026"
      },
      "source": [
        "train_scaled.isnull().sum()"
      ],
      "execution_count": null,
      "outputs": [
        {
          "output_type": "execute_result",
          "data": {
            "text/plain": [
              "Unnamed: 0    0\n",
              "X1 Diff       0\n",
              "X2 Diff       0\n",
              "X3 Diff       0\n",
              "X4 Diff       0\n",
              "Odds          0\n",
              "dtype: int64"
            ]
          },
          "metadata": {
            "tags": []
          },
          "execution_count": 21
        }
      ]
    },
    {
      "cell_type": "code",
      "metadata": {
        "id": "S7e-DjaGnEaq",
        "colab": {
          "base_uri": "https://localhost:8080/",
          "height": 204
        },
        "outputId": "0465adba-fd5a-443d-94e5-09ffddf2c1ef"
      },
      "source": [
        "result = train_scaled.append(test_scaled)\n",
        "result.head()"
      ],
      "execution_count": null,
      "outputs": [
        {
          "output_type": "execute_result",
          "data": {
            "text/html": [
              "<div>\n",
              "<style scoped>\n",
              "    .dataframe tbody tr th:only-of-type {\n",
              "        vertical-align: middle;\n",
              "    }\n",
              "\n",
              "    .dataframe tbody tr th {\n",
              "        vertical-align: top;\n",
              "    }\n",
              "\n",
              "    .dataframe thead th {\n",
              "        text-align: right;\n",
              "    }\n",
              "</style>\n",
              "<table border=\"1\" class=\"dataframe\">\n",
              "  <thead>\n",
              "    <tr style=\"text-align: right;\">\n",
              "      <th></th>\n",
              "      <th>Unnamed: 0</th>\n",
              "      <th>X1 Diff</th>\n",
              "      <th>X2 Diff</th>\n",
              "      <th>X3 Diff</th>\n",
              "      <th>X4 Diff</th>\n",
              "      <th>Odds</th>\n",
              "    </tr>\n",
              "  </thead>\n",
              "  <tbody>\n",
              "    <tr>\n",
              "      <th>73</th>\n",
              "      <td>73</td>\n",
              "      <td>0.324133</td>\n",
              "      <td>0.440004</td>\n",
              "      <td>0.494505</td>\n",
              "      <td>0.368103</td>\n",
              "      <td>0.355263</td>\n",
              "    </tr>\n",
              "    <tr>\n",
              "      <th>40</th>\n",
              "      <td>40</td>\n",
              "      <td>0.525655</td>\n",
              "      <td>0.676500</td>\n",
              "      <td>0.953297</td>\n",
              "      <td>0.831056</td>\n",
              "      <td>0.202632</td>\n",
              "    </tr>\n",
              "    <tr>\n",
              "      <th>79</th>\n",
              "      <td>79</td>\n",
              "      <td>0.610580</td>\n",
              "      <td>0.429540</td>\n",
              "      <td>0.285714</td>\n",
              "      <td>0.445087</td>\n",
              "      <td>0.236842</td>\n",
              "    </tr>\n",
              "    <tr>\n",
              "      <th>286</th>\n",
              "      <td>286</td>\n",
              "      <td>0.573956</td>\n",
              "      <td>0.450967</td>\n",
              "      <td>0.395604</td>\n",
              "      <td>0.466894</td>\n",
              "      <td>0.213158</td>\n",
              "    </tr>\n",
              "    <tr>\n",
              "      <th>372</th>\n",
              "      <td>372</td>\n",
              "      <td>0.548832</td>\n",
              "      <td>0.504285</td>\n",
              "      <td>0.414835</td>\n",
              "      <td>0.503416</td>\n",
              "      <td>0.144737</td>\n",
              "    </tr>\n",
              "  </tbody>\n",
              "</table>\n",
              "</div>"
            ],
            "text/plain": [
              "     Unnamed: 0   X1 Diff   X2 Diff   X3 Diff   X4 Diff      Odds\n",
              "73           73  0.324133  0.440004  0.494505  0.368103  0.355263\n",
              "40           40  0.525655  0.676500  0.953297  0.831056  0.202632\n",
              "79           79  0.610580  0.429540  0.285714  0.445087  0.236842\n",
              "286         286  0.573956  0.450967  0.395604  0.466894  0.213158\n",
              "372         372  0.548832  0.504285  0.414835  0.503416  0.144737"
            ]
          },
          "metadata": {
            "tags": []
          },
          "execution_count": 22
        }
      ]
    },
    {
      "cell_type": "markdown",
      "metadata": {
        "id": "nUqHIseoR2Ge"
      },
      "source": [
        "CALCULATE MSE"
      ]
    },
    {
      "cell_type": "code",
      "metadata": {
        "id": "zCJlKrJFbATt",
        "colab": {
          "base_uri": "https://localhost:8080/"
        },
        "outputId": "52274b35-a5c0-4d3b-a3bc-c93d87094280"
      },
      "source": [
        "#calculate accruacy for KNN(1)\n",
        "#result and data_accuracy\n",
        "mse = 0\n",
        "\n",
        "for i in range (0, 512):\n",
        "  observed = data_accuracy[['X1 Diff', 'X2 Diff', 'X3 Diff', 'X4 Diff', 'Odds']].iloc[i].values\n",
        "  predicted = result[['X1 Diff', 'X2 Diff', 'X3 Diff', 'X4 Diff', 'Odds']].iloc[i].values\n",
        "  \n",
        "  for x in range (0, 5):\n",
        "    mse += ((observed[x] - predicted[x])**2) \n",
        "\n",
        "mse = mse * (1/len(result))   \n",
        "  \n",
        "print(mse)"
      ],
      "execution_count": null,
      "outputs": [
        {
          "output_type": "stream",
          "text": [
            "0.019200898204953736\n"
          ],
          "name": "stdout"
        }
      ]
    },
    {
      "cell_type": "markdown",
      "metadata": {
        "id": "VC-a67G7bLbj"
      },
      "source": [
        "KNN (3):\n",
        "- Missing data\n",
        "- Imputing data\n",
        "- Accuracy"
      ]
    },
    {
      "cell_type": "code",
      "metadata": {
        "id": "ZHbEnWPrToRT"
      },
      "source": [
        "def findThreeClosest(distance):\n",
        "  min1 = max(distance)\n",
        "  min2 = max(distance)\n",
        "  min3 = max(distance)\n",
        "  index1 = 0\n",
        "  index2 = 0\n",
        "  index3 = 0\n",
        "  for e in range(0, len(distance)):\n",
        "    if distance[e] < min1:\n",
        "      min2 = min1\n",
        "      min1 = distance[e]\n",
        "      index2 = index1\n",
        "      index1 = e\n",
        "    elif distance[e] < min2:\n",
        "      min3 = min2\n",
        "      min2 = distance[e]\n",
        "      index3 = index2\n",
        "      index2 = e\n",
        "  # print(index3)\n",
        "  m1 = test_scaled[['X1 Diff', 'X2 Diff', 'X3 Diff', 'X4 Diff', 'Odds']].iloc[index1].values\n",
        "  m2 = test_scaled[['X1 Diff', 'X2 Diff', 'X3 Diff', 'X4 Diff', 'Odds']].iloc[index2].values\n",
        "  m3 = test_scaled[['X1 Diff', 'X2 Diff', 'X3 Diff', 'X4 Diff', 'Odds']].iloc[index3].values \n",
        "  return m1, m2, m3"
      ],
      "execution_count": null,
      "outputs": []
    },
    {
      "cell_type": "markdown",
      "metadata": {
        "id": "sMOND7Q4sHn5"
      },
      "source": [
        "SETUP"
      ]
    },
    {
      "cell_type": "code",
      "metadata": {
        "id": "c1dmmwrkcGNF"
      },
      "source": [
        "data_scaled = pd.read_csv('/content/drive/MyDrive/Colab Notebooks/data_scaled.csv')"
      ],
      "execution_count": null,
      "outputs": []
    },
    {
      "cell_type": "code",
      "metadata": {
        "id": "eT6CDM36cG28"
      },
      "source": [
        "test_scaled, train_scaled = sklearn.model_selection.train_test_split(data_scaled, train_size=256, test_size=256)"
      ],
      "execution_count": null,
      "outputs": []
    },
    {
      "cell_type": "code",
      "metadata": {
        "colab": {
          "base_uri": "https://localhost:8080/",
          "height": 204
        },
        "id": "nH7jsquLmC6_",
        "outputId": "1b31defc-58d1-4f92-f4e6-0dc7cc3313d6"
      },
      "source": [
        "data_accuracy = train_scaled.append(test_scaled)\n",
        "data_accuracy.head()"
      ],
      "execution_count": null,
      "outputs": [
        {
          "output_type": "execute_result",
          "data": {
            "text/html": [
              "<div>\n",
              "<style scoped>\n",
              "    .dataframe tbody tr th:only-of-type {\n",
              "        vertical-align: middle;\n",
              "    }\n",
              "\n",
              "    .dataframe tbody tr th {\n",
              "        vertical-align: top;\n",
              "    }\n",
              "\n",
              "    .dataframe thead th {\n",
              "        text-align: right;\n",
              "    }\n",
              "</style>\n",
              "<table border=\"1\" class=\"dataframe\">\n",
              "  <thead>\n",
              "    <tr style=\"text-align: right;\">\n",
              "      <th></th>\n",
              "      <th>Unnamed: 0</th>\n",
              "      <th>X1 Diff</th>\n",
              "      <th>X2 Diff</th>\n",
              "      <th>X3 Diff</th>\n",
              "      <th>X4 Diff</th>\n",
              "      <th>Odds</th>\n",
              "    </tr>\n",
              "  </thead>\n",
              "  <tbody>\n",
              "    <tr>\n",
              "      <th>171</th>\n",
              "      <td>171</td>\n",
              "      <td>0.437544</td>\n",
              "      <td>0.500498</td>\n",
              "      <td>0.618132</td>\n",
              "      <td>0.507094</td>\n",
              "      <td>0.136842</td>\n",
              "    </tr>\n",
              "    <tr>\n",
              "      <th>20</th>\n",
              "      <td>20</td>\n",
              "      <td>0.593949</td>\n",
              "      <td>0.520032</td>\n",
              "      <td>0.472527</td>\n",
              "      <td>0.555439</td>\n",
              "      <td>0.342105</td>\n",
              "    </tr>\n",
              "    <tr>\n",
              "      <th>227</th>\n",
              "      <td>227</td>\n",
              "      <td>0.363057</td>\n",
              "      <td>0.600558</td>\n",
              "      <td>0.807692</td>\n",
              "      <td>0.618760</td>\n",
              "      <td>0.168421</td>\n",
              "    </tr>\n",
              "    <tr>\n",
              "      <th>48</th>\n",
              "      <td>48</td>\n",
              "      <td>0.263800</td>\n",
              "      <td>0.555312</td>\n",
              "      <td>0.686813</td>\n",
              "      <td>0.491329</td>\n",
              "      <td>0.315789</td>\n",
              "    </tr>\n",
              "    <tr>\n",
              "      <th>467</th>\n",
              "      <td>467</td>\n",
              "      <td>0.557502</td>\n",
              "      <td>0.455252</td>\n",
              "      <td>0.414835</td>\n",
              "      <td>0.461902</td>\n",
              "      <td>0.131579</td>\n",
              "    </tr>\n",
              "  </tbody>\n",
              "</table>\n",
              "</div>"
            ],
            "text/plain": [
              "     Unnamed: 0   X1 Diff   X2 Diff   X3 Diff   X4 Diff      Odds\n",
              "171         171  0.437544  0.500498  0.618132  0.507094  0.136842\n",
              "20           20  0.593949  0.520032  0.472527  0.555439  0.342105\n",
              "227         227  0.363057  0.600558  0.807692  0.618760  0.168421\n",
              "48           48  0.263800  0.555312  0.686813  0.491329  0.315789\n",
              "467         467  0.557502  0.455252  0.414835  0.461902  0.131579"
            ]
          },
          "metadata": {
            "tags": []
          },
          "execution_count": 27
        }
      ]
    },
    {
      "cell_type": "markdown",
      "metadata": {
        "id": "sewsMWCUsMpU"
      },
      "source": [
        "CREATE MISSING DATA"
      ]
    },
    {
      "cell_type": "code",
      "metadata": {
        "colab": {
          "base_uri": "https://localhost:8080/",
          "height": 714
        },
        "id": "aUilroOTewo3",
        "outputId": "f32d8419-8f31-4dd1-bbb2-dceb9106dc6f"
      },
      "source": [
        "#reset data_scaled and set a new set of random missing numbers for KNN(1)\n",
        "train_scaled['X1 Diff'] = train_scaled['X1 Diff'].sample(frac=0.50)\n",
        "train_scaled['X2 Diff'] = train_scaled['X2 Diff'].sample(frac=0.50)\n",
        "train_scaled['X3 Diff'] = train_scaled['X3 Diff'].sample(frac=0.50)\n",
        "train_scaled['X4 Diff'] = train_scaled['X4 Diff'].sample(frac=0.50)\n",
        "train_scaled['Odds'] = train_scaled['Odds'].sample(frac=0.50)\n",
        "train_scaled.head()"
      ],
      "execution_count": null,
      "outputs": [
        {
          "output_type": "stream",
          "text": [
            "/usr/local/lib/python3.6/dist-packages/ipykernel_launcher.py:2: SettingWithCopyWarning: \n",
            "A value is trying to be set on a copy of a slice from a DataFrame.\n",
            "Try using .loc[row_indexer,col_indexer] = value instead\n",
            "\n",
            "See the caveats in the documentation: https://pandas.pydata.org/pandas-docs/stable/user_guide/indexing.html#returning-a-view-versus-a-copy\n",
            "  \n",
            "/usr/local/lib/python3.6/dist-packages/ipykernel_launcher.py:3: SettingWithCopyWarning: \n",
            "A value is trying to be set on a copy of a slice from a DataFrame.\n",
            "Try using .loc[row_indexer,col_indexer] = value instead\n",
            "\n",
            "See the caveats in the documentation: https://pandas.pydata.org/pandas-docs/stable/user_guide/indexing.html#returning-a-view-versus-a-copy\n",
            "  This is separate from the ipykernel package so we can avoid doing imports until\n",
            "/usr/local/lib/python3.6/dist-packages/ipykernel_launcher.py:4: SettingWithCopyWarning: \n",
            "A value is trying to be set on a copy of a slice from a DataFrame.\n",
            "Try using .loc[row_indexer,col_indexer] = value instead\n",
            "\n",
            "See the caveats in the documentation: https://pandas.pydata.org/pandas-docs/stable/user_guide/indexing.html#returning-a-view-versus-a-copy\n",
            "  after removing the cwd from sys.path.\n",
            "/usr/local/lib/python3.6/dist-packages/ipykernel_launcher.py:5: SettingWithCopyWarning: \n",
            "A value is trying to be set on a copy of a slice from a DataFrame.\n",
            "Try using .loc[row_indexer,col_indexer] = value instead\n",
            "\n",
            "See the caveats in the documentation: https://pandas.pydata.org/pandas-docs/stable/user_guide/indexing.html#returning-a-view-versus-a-copy\n",
            "  \"\"\"\n",
            "/usr/local/lib/python3.6/dist-packages/ipykernel_launcher.py:6: SettingWithCopyWarning: \n",
            "A value is trying to be set on a copy of a slice from a DataFrame.\n",
            "Try using .loc[row_indexer,col_indexer] = value instead\n",
            "\n",
            "See the caveats in the documentation: https://pandas.pydata.org/pandas-docs/stable/user_guide/indexing.html#returning-a-view-versus-a-copy\n",
            "  \n"
          ],
          "name": "stderr"
        },
        {
          "output_type": "execute_result",
          "data": {
            "text/html": [
              "<div>\n",
              "<style scoped>\n",
              "    .dataframe tbody tr th:only-of-type {\n",
              "        vertical-align: middle;\n",
              "    }\n",
              "\n",
              "    .dataframe tbody tr th {\n",
              "        vertical-align: top;\n",
              "    }\n",
              "\n",
              "    .dataframe thead th {\n",
              "        text-align: right;\n",
              "    }\n",
              "</style>\n",
              "<table border=\"1\" class=\"dataframe\">\n",
              "  <thead>\n",
              "    <tr style=\"text-align: right;\">\n",
              "      <th></th>\n",
              "      <th>Unnamed: 0</th>\n",
              "      <th>X1 Diff</th>\n",
              "      <th>X2 Diff</th>\n",
              "      <th>X3 Diff</th>\n",
              "      <th>X4 Diff</th>\n",
              "      <th>Odds</th>\n",
              "    </tr>\n",
              "  </thead>\n",
              "  <tbody>\n",
              "    <tr>\n",
              "      <th>171</th>\n",
              "      <td>171</td>\n",
              "      <td>NaN</td>\n",
              "      <td>0.500498</td>\n",
              "      <td>NaN</td>\n",
              "      <td>0.507094</td>\n",
              "      <td>0.136842</td>\n",
              "    </tr>\n",
              "    <tr>\n",
              "      <th>20</th>\n",
              "      <td>20</td>\n",
              "      <td>0.593949</td>\n",
              "      <td>0.520032</td>\n",
              "      <td>NaN</td>\n",
              "      <td>0.555439</td>\n",
              "      <td>NaN</td>\n",
              "    </tr>\n",
              "    <tr>\n",
              "      <th>227</th>\n",
              "      <td>227</td>\n",
              "      <td>NaN</td>\n",
              "      <td>0.600558</td>\n",
              "      <td>0.807692</td>\n",
              "      <td>NaN</td>\n",
              "      <td>0.168421</td>\n",
              "    </tr>\n",
              "    <tr>\n",
              "      <th>48</th>\n",
              "      <td>48</td>\n",
              "      <td>NaN</td>\n",
              "      <td>NaN</td>\n",
              "      <td>NaN</td>\n",
              "      <td>NaN</td>\n",
              "      <td>NaN</td>\n",
              "    </tr>\n",
              "    <tr>\n",
              "      <th>467</th>\n",
              "      <td>467</td>\n",
              "      <td>NaN</td>\n",
              "      <td>NaN</td>\n",
              "      <td>NaN</td>\n",
              "      <td>0.461902</td>\n",
              "      <td>NaN</td>\n",
              "    </tr>\n",
              "  </tbody>\n",
              "</table>\n",
              "</div>"
            ],
            "text/plain": [
              "     Unnamed: 0   X1 Diff   X2 Diff   X3 Diff   X4 Diff      Odds\n",
              "171         171       NaN  0.500498       NaN  0.507094  0.136842\n",
              "20           20  0.593949  0.520032       NaN  0.555439       NaN\n",
              "227         227       NaN  0.600558  0.807692       NaN  0.168421\n",
              "48           48       NaN       NaN       NaN       NaN       NaN\n",
              "467         467       NaN       NaN       NaN  0.461902       NaN"
            ]
          },
          "metadata": {
            "tags": []
          },
          "execution_count": 28
        }
      ]
    },
    {
      "cell_type": "markdown",
      "metadata": {
        "id": "aCfiLVlysTOR"
      },
      "source": [
        "IMPUTE MISSING DATA"
      ]
    },
    {
      "cell_type": "code",
      "metadata": {
        "colab": {
          "base_uri": "https://localhost:8080/"
        },
        "id": "AuXqvCUhcu7j",
        "outputId": "58c225c4-3244-4f22-930c-0e1e7eb25eaf"
      },
      "source": [
        "\n",
        "for i in range (0, 256):\n",
        "  row = train_scaled[['X1 Diff', 'X2 Diff', 'X3 Diff', 'X4 Diff', 'Odds']].iloc[i].values\n",
        "  distance = []\n",
        "  count = 0\n",
        "  for j in test_scaled[['X1 Diff', 'X2 Diff', 'X3 Diff', 'X4 Diff', 'Odds']].values:\n",
        "    distance.append(euclidDis(row, j))\n",
        "\n",
        "  m1, m2, m3 = findThreeClosest(distance)\n",
        "\n",
        "  avg = []\n",
        "\n",
        "  for a in range(0, 5):\n",
        "    avg.append((m1[a] + m2[a] + m3[a])/3)  \n",
        "\n",
        "  for x in range(0, 5):\n",
        "    if math.isnan(row[x]):\n",
        "      row[x] = avg[x]\n",
        "\n",
        "  train_scaled['X1 Diff'].iloc[i] = row[0]\n",
        "  train_scaled['X2 Diff'].iloc[i] = row[1]\n",
        "  train_scaled['X3 Diff'].iloc[i] = row[2]\n",
        "  train_scaled['X4 Diff'].iloc[i] = row[3]\n",
        "  train_scaled['Odds'].iloc[i] = row[4]\n",
        "\n",
        "# print(distance)"
      ],
      "execution_count": null,
      "outputs": [
        {
          "output_type": "stream",
          "text": [
            "/usr/local/lib/python3.6/dist-packages/pandas/core/indexing.py:670: SettingWithCopyWarning: \n",
            "A value is trying to be set on a copy of a slice from a DataFrame\n",
            "\n",
            "See the caveats in the documentation: https://pandas.pydata.org/pandas-docs/stable/user_guide/indexing.html#returning-a-view-versus-a-copy\n",
            "  iloc._setitem_with_indexer(indexer, value)\n",
            "/usr/local/lib/python3.6/dist-packages/ipykernel_launcher.py:20: SettingWithCopyWarning: \n",
            "A value is trying to be set on a copy of a slice from a DataFrame\n",
            "\n",
            "See the caveats in the documentation: https://pandas.pydata.org/pandas-docs/stable/user_guide/indexing.html#returning-a-view-versus-a-copy\n",
            "/usr/local/lib/python3.6/dist-packages/ipykernel_launcher.py:21: SettingWithCopyWarning: \n",
            "A value is trying to be set on a copy of a slice from a DataFrame\n",
            "\n",
            "See the caveats in the documentation: https://pandas.pydata.org/pandas-docs/stable/user_guide/indexing.html#returning-a-view-versus-a-copy\n",
            "/usr/local/lib/python3.6/dist-packages/ipykernel_launcher.py:22: SettingWithCopyWarning: \n",
            "A value is trying to be set on a copy of a slice from a DataFrame\n",
            "\n",
            "See the caveats in the documentation: https://pandas.pydata.org/pandas-docs/stable/user_guide/indexing.html#returning-a-view-versus-a-copy\n",
            "/usr/local/lib/python3.6/dist-packages/ipykernel_launcher.py:23: SettingWithCopyWarning: \n",
            "A value is trying to be set on a copy of a slice from a DataFrame\n",
            "\n",
            "See the caveats in the documentation: https://pandas.pydata.org/pandas-docs/stable/user_guide/indexing.html#returning-a-view-versus-a-copy\n",
            "/usr/local/lib/python3.6/dist-packages/ipykernel_launcher.py:24: SettingWithCopyWarning: \n",
            "A value is trying to be set on a copy of a slice from a DataFrame\n",
            "\n",
            "See the caveats in the documentation: https://pandas.pydata.org/pandas-docs/stable/user_guide/indexing.html#returning-a-view-versus-a-copy\n"
          ],
          "name": "stderr"
        }
      ]
    },
    {
      "cell_type": "code",
      "metadata": {
        "colab": {
          "base_uri": "https://localhost:8080/"
        },
        "id": "EiBaIEDx_T8E",
        "outputId": "d9f4b9a8-4a92-480c-ce58-eafda7def053"
      },
      "source": [
        "train_scaled.isnull().sum()"
      ],
      "execution_count": null,
      "outputs": [
        {
          "output_type": "execute_result",
          "data": {
            "text/plain": [
              "Unnamed: 0    0\n",
              "X1 Diff       0\n",
              "X2 Diff       0\n",
              "X3 Diff       0\n",
              "X4 Diff       0\n",
              "Odds          0\n",
              "dtype: int64"
            ]
          },
          "metadata": {
            "tags": []
          },
          "execution_count": 30
        }
      ]
    },
    {
      "cell_type": "code",
      "metadata": {
        "colab": {
          "base_uri": "https://localhost:8080/",
          "height": 204
        },
        "id": "EVm0lOGil6px",
        "outputId": "1196c940-73da-4713-862d-7497723b1a7c"
      },
      "source": [
        "result = train_scaled.append(test_scaled)\n",
        "result.head()"
      ],
      "execution_count": null,
      "outputs": [
        {
          "output_type": "execute_result",
          "data": {
            "text/html": [
              "<div>\n",
              "<style scoped>\n",
              "    .dataframe tbody tr th:only-of-type {\n",
              "        vertical-align: middle;\n",
              "    }\n",
              "\n",
              "    .dataframe tbody tr th {\n",
              "        vertical-align: top;\n",
              "    }\n",
              "\n",
              "    .dataframe thead th {\n",
              "        text-align: right;\n",
              "    }\n",
              "</style>\n",
              "<table border=\"1\" class=\"dataframe\">\n",
              "  <thead>\n",
              "    <tr style=\"text-align: right;\">\n",
              "      <th></th>\n",
              "      <th>Unnamed: 0</th>\n",
              "      <th>X1 Diff</th>\n",
              "      <th>X2 Diff</th>\n",
              "      <th>X3 Diff</th>\n",
              "      <th>X4 Diff</th>\n",
              "      <th>Odds</th>\n",
              "    </tr>\n",
              "  </thead>\n",
              "  <tbody>\n",
              "    <tr>\n",
              "      <th>171</th>\n",
              "      <td>171</td>\n",
              "      <td>0.523237</td>\n",
              "      <td>0.500498</td>\n",
              "      <td>0.464286</td>\n",
              "      <td>0.507094</td>\n",
              "      <td>0.136842</td>\n",
              "    </tr>\n",
              "    <tr>\n",
              "      <th>20</th>\n",
              "      <td>20</td>\n",
              "      <td>0.593949</td>\n",
              "      <td>0.520032</td>\n",
              "      <td>0.510073</td>\n",
              "      <td>0.555439</td>\n",
              "      <td>0.220175</td>\n",
              "    </tr>\n",
              "    <tr>\n",
              "      <th>227</th>\n",
              "      <td>227</td>\n",
              "      <td>0.520111</td>\n",
              "      <td>0.600558</td>\n",
              "      <td>0.807692</td>\n",
              "      <td>0.691540</td>\n",
              "      <td>0.168421</td>\n",
              "    </tr>\n",
              "    <tr>\n",
              "      <th>48</th>\n",
              "      <td>48</td>\n",
              "      <td>0.567056</td>\n",
              "      <td>0.455551</td>\n",
              "      <td>0.302198</td>\n",
              "      <td>0.431161</td>\n",
              "      <td>0.184211</td>\n",
              "    </tr>\n",
              "    <tr>\n",
              "      <th>467</th>\n",
              "      <td>467</td>\n",
              "      <td>0.561630</td>\n",
              "      <td>0.450369</td>\n",
              "      <td>0.421245</td>\n",
              "      <td>0.461902</td>\n",
              "      <td>0.171930</td>\n",
              "    </tr>\n",
              "  </tbody>\n",
              "</table>\n",
              "</div>"
            ],
            "text/plain": [
              "     Unnamed: 0   X1 Diff   X2 Diff   X3 Diff   X4 Diff      Odds\n",
              "171         171  0.523237  0.500498  0.464286  0.507094  0.136842\n",
              "20           20  0.593949  0.520032  0.510073  0.555439  0.220175\n",
              "227         227  0.520111  0.600558  0.807692  0.691540  0.168421\n",
              "48           48  0.567056  0.455551  0.302198  0.431161  0.184211\n",
              "467         467  0.561630  0.450369  0.421245  0.461902  0.171930"
            ]
          },
          "metadata": {
            "tags": []
          },
          "execution_count": 31
        }
      ]
    },
    {
      "cell_type": "markdown",
      "metadata": {
        "id": "gVysmqCJsX5h"
      },
      "source": [
        "CALCULATE MSE"
      ]
    },
    {
      "cell_type": "code",
      "metadata": {
        "colab": {
          "base_uri": "https://localhost:8080/"
        },
        "id": "zVbyg-S2_l5D",
        "outputId": "d2e94581-4c2c-48b5-f5ef-58d0ecf4cca0"
      },
      "source": [
        "#calculate accruacy for KNN(3)\n",
        "#result and data_accuracy\n",
        "mse = 0\n",
        "\n",
        "for i in range (0, 512):\n",
        "  observed = data_accuracy[['X1 Diff', 'X2 Diff', 'X3 Diff', 'X4 Diff', 'Odds']].iloc[i].values\n",
        "  predicted = result[['X1 Diff', 'X2 Diff', 'X3 Diff', 'X4 Diff', 'Odds']].iloc[i].values\n",
        "  \n",
        "  for x in range (0, 5):\n",
        "    mse += ((observed[x] - predicted[x])**2) \n",
        "\n",
        "mse = mse * (1/len(result))   \n",
        "  \n",
        "print(mse)"
      ],
      "execution_count": null,
      "outputs": [
        {
          "output_type": "stream",
          "text": [
            "0.012956983705605147\n"
          ],
          "name": "stdout"
        }
      ]
    },
    {
      "cell_type": "markdown",
      "metadata": {
        "id": "0zKnkKSi_t2q"
      },
      "source": [
        "KNN (5):\n",
        "- Missing data\n",
        "- Imputing data\n",
        "- Accuracy"
      ]
    },
    {
      "cell_type": "markdown",
      "metadata": {
        "id": "JIEEQVu5SHZG"
      },
      "source": [
        "FIVE CLOSEST DISTANCES FUNCTION"
      ]
    },
    {
      "cell_type": "code",
      "metadata": {
        "id": "YW2SOx1sGI59"
      },
      "source": [
        "def findFiveClosest(distance):\n",
        "  min1 = max(distance)\n",
        "  min2 = max(distance)\n",
        "  min3 = max(distance)\n",
        "  min4 = max(distance)\n",
        "  min5 = max(distance)\n",
        "  index1 = 0\n",
        "  index2 = 0\n",
        "  index3 = 0\n",
        "  index4 = 0\n",
        "  index5 = 0\n",
        "  #this loop finds the 5 smallest distances in the distances array\n",
        "  for e in range(0, len(distance)):\n",
        "    if distance[e] < min1:\n",
        "      min2 = min1\n",
        "      min1 = distance[e]\n",
        "      index2 = index1\n",
        "      index1 = e\n",
        "    elif distance[e] < min2:\n",
        "      min3 = min2\n",
        "      min2 = distance[e]\n",
        "      index3 = index2\n",
        "      index2 = e\n",
        "    elif distance[e] < min3:\n",
        "      min4 = min3\n",
        "      min3 = distance[e]\n",
        "      index4 = index3\n",
        "      index3 = e\n",
        "    elif distance[e] < min4:\n",
        "      min5 = min4\n",
        "      min4 = distance[e]\n",
        "      index5 = index4\n",
        "      index4 = e\n",
        "  # sets the values at the index of the of five smallest distances \n",
        "  m1 = test_scaled[['X1 Diff', 'X2 Diff', 'X3 Diff', 'X4 Diff', 'Odds']].iloc[index1].values\n",
        "  m2 = test_scaled[['X1 Diff', 'X2 Diff', 'X3 Diff', 'X4 Diff', 'Odds']].iloc[index2].values\n",
        "  m3 = test_scaled[['X1 Diff', 'X2 Diff', 'X3 Diff', 'X4 Diff', 'Odds']].iloc[index3].values \n",
        "  m4 = test_scaled[['X1 Diff', 'X2 Diff', 'X3 Diff', 'X4 Diff', 'Odds']].iloc[index4].values\n",
        "  m5 = test_scaled[['X1 Diff', 'X2 Diff', 'X3 Diff', 'X4 Diff', 'Odds']].iloc[index5].values\n",
        "  return m1, m2, m3, m4, m5"
      ],
      "execution_count": null,
      "outputs": []
    },
    {
      "cell_type": "markdown",
      "metadata": {
        "id": "KOOn7G5ZT1Ni"
      },
      "source": [
        "SETUP"
      ]
    },
    {
      "cell_type": "code",
      "metadata": {
        "id": "9DvcWU0F_yPu"
      },
      "source": [
        "data_scaled = pd.read_csv('/content/drive/MyDrive/Colab Notebooks/data_scaled.csv')"
      ],
      "execution_count": null,
      "outputs": []
    },
    {
      "cell_type": "code",
      "metadata": {
        "id": "cF-o4KJO_3hi"
      },
      "source": [
        "test_scaled, train_scaled = sklearn.model_selection.train_test_split(data_scaled, train_size=256, test_size=256)"
      ],
      "execution_count": null,
      "outputs": []
    },
    {
      "cell_type": "code",
      "metadata": {
        "id": "pGLz2SJllbmx",
        "colab": {
          "base_uri": "https://localhost:8080/",
          "height": 204
        },
        "outputId": "cfb64f6d-8761-43f3-9c71-7bf6c13f941b"
      },
      "source": [
        "data_accuracy = train_scaled.append(test_scaled)\n",
        "data_accuracy.head()"
      ],
      "execution_count": null,
      "outputs": [
        {
          "output_type": "execute_result",
          "data": {
            "text/html": [
              "<div>\n",
              "<style scoped>\n",
              "    .dataframe tbody tr th:only-of-type {\n",
              "        vertical-align: middle;\n",
              "    }\n",
              "\n",
              "    .dataframe tbody tr th {\n",
              "        vertical-align: top;\n",
              "    }\n",
              "\n",
              "    .dataframe thead th {\n",
              "        text-align: right;\n",
              "    }\n",
              "</style>\n",
              "<table border=\"1\" class=\"dataframe\">\n",
              "  <thead>\n",
              "    <tr style=\"text-align: right;\">\n",
              "      <th></th>\n",
              "      <th>Unnamed: 0</th>\n",
              "      <th>X1 Diff</th>\n",
              "      <th>X2 Diff</th>\n",
              "      <th>X3 Diff</th>\n",
              "      <th>X4 Diff</th>\n",
              "      <th>Odds</th>\n",
              "    </tr>\n",
              "  </thead>\n",
              "  <tbody>\n",
              "    <tr>\n",
              "      <th>189</th>\n",
              "      <td>189</td>\n",
              "      <td>0.037155</td>\n",
              "      <td>0.483456</td>\n",
              "      <td>0.480769</td>\n",
              "      <td>0.250131</td>\n",
              "      <td>0.381579</td>\n",
              "    </tr>\n",
              "    <tr>\n",
              "      <th>32</th>\n",
              "      <td>32</td>\n",
              "      <td>0.391366</td>\n",
              "      <td>0.478174</td>\n",
              "      <td>0.489011</td>\n",
              "      <td>0.423542</td>\n",
              "      <td>0.236842</td>\n",
              "    </tr>\n",
              "    <tr>\n",
              "      <th>393</th>\n",
              "      <td>393</td>\n",
              "      <td>0.508316</td>\n",
              "      <td>0.479071</td>\n",
              "      <td>0.472527</td>\n",
              "      <td>0.476879</td>\n",
              "      <td>0.276316</td>\n",
              "    </tr>\n",
              "    <tr>\n",
              "      <th>12</th>\n",
              "      <td>12</td>\n",
              "      <td>0.503008</td>\n",
              "      <td>0.534881</td>\n",
              "      <td>0.568681</td>\n",
              "      <td>0.554125</td>\n",
              "      <td>0.213158</td>\n",
              "    </tr>\n",
              "    <tr>\n",
              "      <th>13</th>\n",
              "      <td>13</td>\n",
              "      <td>0.496992</td>\n",
              "      <td>0.465119</td>\n",
              "      <td>0.431319</td>\n",
              "      <td>0.445875</td>\n",
              "      <td>0.213158</td>\n",
              "    </tr>\n",
              "  </tbody>\n",
              "</table>\n",
              "</div>"
            ],
            "text/plain": [
              "     Unnamed: 0   X1 Diff   X2 Diff   X3 Diff   X4 Diff      Odds\n",
              "189         189  0.037155  0.483456  0.480769  0.250131  0.381579\n",
              "32           32  0.391366  0.478174  0.489011  0.423542  0.236842\n",
              "393         393  0.508316  0.479071  0.472527  0.476879  0.276316\n",
              "12           12  0.503008  0.534881  0.568681  0.554125  0.213158\n",
              "13           13  0.496992  0.465119  0.431319  0.445875  0.213158"
            ]
          },
          "metadata": {
            "tags": []
          },
          "execution_count": 36
        }
      ]
    },
    {
      "cell_type": "code",
      "metadata": {
        "colab": {
          "base_uri": "https://localhost:8080/",
          "height": 714
        },
        "id": "rlic1Z1__4KW",
        "outputId": "8ddab878-eb80-4b3c-acf5-09c7cec7076c"
      },
      "source": [
        "#reset data_scaled and set a new set of random missing numbers for KNN(1)\n",
        "train_scaled['X1 Diff'] = train_scaled['X1 Diff'].sample(frac=0.50)\n",
        "train_scaled['X2 Diff'] = train_scaled['X2 Diff'].sample(frac=0.50)\n",
        "train_scaled['X3 Diff'] = train_scaled['X3 Diff'].sample(frac=0.50)\n",
        "train_scaled['X4 Diff'] = train_scaled['X4 Diff'].sample(frac=0.50)\n",
        "train_scaled['Odds'] = train_scaled['Odds'].sample(frac=0.50)\n",
        "train_scaled.head()"
      ],
      "execution_count": null,
      "outputs": [
        {
          "output_type": "stream",
          "text": [
            "/usr/local/lib/python3.6/dist-packages/ipykernel_launcher.py:2: SettingWithCopyWarning: \n",
            "A value is trying to be set on a copy of a slice from a DataFrame.\n",
            "Try using .loc[row_indexer,col_indexer] = value instead\n",
            "\n",
            "See the caveats in the documentation: https://pandas.pydata.org/pandas-docs/stable/user_guide/indexing.html#returning-a-view-versus-a-copy\n",
            "  \n",
            "/usr/local/lib/python3.6/dist-packages/ipykernel_launcher.py:3: SettingWithCopyWarning: \n",
            "A value is trying to be set on a copy of a slice from a DataFrame.\n",
            "Try using .loc[row_indexer,col_indexer] = value instead\n",
            "\n",
            "See the caveats in the documentation: https://pandas.pydata.org/pandas-docs/stable/user_guide/indexing.html#returning-a-view-versus-a-copy\n",
            "  This is separate from the ipykernel package so we can avoid doing imports until\n",
            "/usr/local/lib/python3.6/dist-packages/ipykernel_launcher.py:4: SettingWithCopyWarning: \n",
            "A value is trying to be set on a copy of a slice from a DataFrame.\n",
            "Try using .loc[row_indexer,col_indexer] = value instead\n",
            "\n",
            "See the caveats in the documentation: https://pandas.pydata.org/pandas-docs/stable/user_guide/indexing.html#returning-a-view-versus-a-copy\n",
            "  after removing the cwd from sys.path.\n",
            "/usr/local/lib/python3.6/dist-packages/ipykernel_launcher.py:5: SettingWithCopyWarning: \n",
            "A value is trying to be set on a copy of a slice from a DataFrame.\n",
            "Try using .loc[row_indexer,col_indexer] = value instead\n",
            "\n",
            "See the caveats in the documentation: https://pandas.pydata.org/pandas-docs/stable/user_guide/indexing.html#returning-a-view-versus-a-copy\n",
            "  \"\"\"\n",
            "/usr/local/lib/python3.6/dist-packages/ipykernel_launcher.py:6: SettingWithCopyWarning: \n",
            "A value is trying to be set on a copy of a slice from a DataFrame.\n",
            "Try using .loc[row_indexer,col_indexer] = value instead\n",
            "\n",
            "See the caveats in the documentation: https://pandas.pydata.org/pandas-docs/stable/user_guide/indexing.html#returning-a-view-versus-a-copy\n",
            "  \n"
          ],
          "name": "stderr"
        },
        {
          "output_type": "execute_result",
          "data": {
            "text/html": [
              "<div>\n",
              "<style scoped>\n",
              "    .dataframe tbody tr th:only-of-type {\n",
              "        vertical-align: middle;\n",
              "    }\n",
              "\n",
              "    .dataframe tbody tr th {\n",
              "        vertical-align: top;\n",
              "    }\n",
              "\n",
              "    .dataframe thead th {\n",
              "        text-align: right;\n",
              "    }\n",
              "</style>\n",
              "<table border=\"1\" class=\"dataframe\">\n",
              "  <thead>\n",
              "    <tr style=\"text-align: right;\">\n",
              "      <th></th>\n",
              "      <th>Unnamed: 0</th>\n",
              "      <th>X1 Diff</th>\n",
              "      <th>X2 Diff</th>\n",
              "      <th>X3 Diff</th>\n",
              "      <th>X4 Diff</th>\n",
              "      <th>Odds</th>\n",
              "    </tr>\n",
              "  </thead>\n",
              "  <tbody>\n",
              "    <tr>\n",
              "      <th>189</th>\n",
              "      <td>189</td>\n",
              "      <td>0.037155</td>\n",
              "      <td>NaN</td>\n",
              "      <td>0.480769</td>\n",
              "      <td>0.250131</td>\n",
              "      <td>NaN</td>\n",
              "    </tr>\n",
              "    <tr>\n",
              "      <th>32</th>\n",
              "      <td>32</td>\n",
              "      <td>NaN</td>\n",
              "      <td>0.478174</td>\n",
              "      <td>0.489011</td>\n",
              "      <td>0.423542</td>\n",
              "      <td>NaN</td>\n",
              "    </tr>\n",
              "    <tr>\n",
              "      <th>393</th>\n",
              "      <td>393</td>\n",
              "      <td>NaN</td>\n",
              "      <td>NaN</td>\n",
              "      <td>0.472527</td>\n",
              "      <td>0.476879</td>\n",
              "      <td>NaN</td>\n",
              "    </tr>\n",
              "    <tr>\n",
              "      <th>12</th>\n",
              "      <td>12</td>\n",
              "      <td>NaN</td>\n",
              "      <td>0.534881</td>\n",
              "      <td>0.568681</td>\n",
              "      <td>0.554125</td>\n",
              "      <td>NaN</td>\n",
              "    </tr>\n",
              "    <tr>\n",
              "      <th>13</th>\n",
              "      <td>13</td>\n",
              "      <td>NaN</td>\n",
              "      <td>NaN</td>\n",
              "      <td>NaN</td>\n",
              "      <td>NaN</td>\n",
              "      <td>0.213158</td>\n",
              "    </tr>\n",
              "  </tbody>\n",
              "</table>\n",
              "</div>"
            ],
            "text/plain": [
              "     Unnamed: 0   X1 Diff   X2 Diff   X3 Diff   X4 Diff      Odds\n",
              "189         189  0.037155       NaN  0.480769  0.250131       NaN\n",
              "32           32       NaN  0.478174  0.489011  0.423542       NaN\n",
              "393         393       NaN       NaN  0.472527  0.476879       NaN\n",
              "12           12       NaN  0.534881  0.568681  0.554125       NaN\n",
              "13           13       NaN       NaN       NaN       NaN  0.213158"
            ]
          },
          "metadata": {
            "tags": []
          },
          "execution_count": 37
        }
      ]
    },
    {
      "cell_type": "code",
      "metadata": {
        "colab": {
          "base_uri": "https://localhost:8080/"
        },
        "id": "Xb4ffa2cDCYt",
        "outputId": "491549d5-3c32-48ee-ff33-7eeefe94924e"
      },
      "source": [
        "train_scaled.isnull().sum()"
      ],
      "execution_count": null,
      "outputs": [
        {
          "output_type": "execute_result",
          "data": {
            "text/plain": [
              "Unnamed: 0      0\n",
              "X1 Diff       128\n",
              "X2 Diff       128\n",
              "X3 Diff       128\n",
              "X4 Diff       128\n",
              "Odds          128\n",
              "dtype: int64"
            ]
          },
          "metadata": {
            "tags": []
          },
          "execution_count": 38
        }
      ]
    },
    {
      "cell_type": "code",
      "metadata": {
        "colab": {
          "base_uri": "https://localhost:8080/"
        },
        "id": "BcfEygB0_9ll",
        "outputId": "8242cced-5612-4aaa-bb7e-5b005ae34206"
      },
      "source": [
        "\n",
        "for i in range (0, 256):\n",
        "  #sets current row \n",
        "  row = train_scaled[['X1 Diff', 'X2 Diff', 'X3 Diff', 'X4 Diff', 'Odds']].iloc[i].values\n",
        "  distance = [] #resets distance to blank\n",
        "  #loops through the test set to create an array of distances\n",
        "  for j in test_scaled[['X1 Diff', 'X2 Diff', 'X3 Diff', 'X4 Diff', 'Odds']].values:\n",
        "    distance.append(euclidDis(row, j))\n",
        "  #reset all values for each time through the loop\n",
        "  \n",
        "  m1, m2, m3, m4, m5 = findFiveClosest(distance)\n",
        "  \n",
        "  avg = [] # resets avg list\n",
        "  #loops through to set average values\n",
        "  for a in range(0, 5):\n",
        "    avg.append((m1[a] + m2[a] + m3[a] + m4[a] + m5[a])/5)  \n",
        "\n",
        "  for x in range(0, 5):\n",
        "    if math.isnan(row[x]):\n",
        "      row[x] = avg[x]\n",
        "\n",
        "  train_scaled['X1 Diff'].iloc[i] = row[0]\n",
        "  train_scaled['X2 Diff'].iloc[i] = row[1]\n",
        "  train_scaled['X3 Diff'].iloc[i] = row[2]\n",
        "  train_scaled['X4 Diff'].iloc[i] = row[3]\n",
        "  train_scaled['Odds'].iloc[i] = row[4]"
      ],
      "execution_count": null,
      "outputs": [
        {
          "output_type": "stream",
          "text": [
            "/usr/local/lib/python3.6/dist-packages/pandas/core/indexing.py:670: SettingWithCopyWarning: \n",
            "A value is trying to be set on a copy of a slice from a DataFrame\n",
            "\n",
            "See the caveats in the documentation: https://pandas.pydata.org/pandas-docs/stable/user_guide/indexing.html#returning-a-view-versus-a-copy\n",
            "  iloc._setitem_with_indexer(indexer, value)\n",
            "/usr/local/lib/python3.6/dist-packages/ipykernel_launcher.py:22: SettingWithCopyWarning: \n",
            "A value is trying to be set on a copy of a slice from a DataFrame\n",
            "\n",
            "See the caveats in the documentation: https://pandas.pydata.org/pandas-docs/stable/user_guide/indexing.html#returning-a-view-versus-a-copy\n",
            "/usr/local/lib/python3.6/dist-packages/ipykernel_launcher.py:23: SettingWithCopyWarning: \n",
            "A value is trying to be set on a copy of a slice from a DataFrame\n",
            "\n",
            "See the caveats in the documentation: https://pandas.pydata.org/pandas-docs/stable/user_guide/indexing.html#returning-a-view-versus-a-copy\n",
            "/usr/local/lib/python3.6/dist-packages/ipykernel_launcher.py:24: SettingWithCopyWarning: \n",
            "A value is trying to be set on a copy of a slice from a DataFrame\n",
            "\n",
            "See the caveats in the documentation: https://pandas.pydata.org/pandas-docs/stable/user_guide/indexing.html#returning-a-view-versus-a-copy\n",
            "/usr/local/lib/python3.6/dist-packages/ipykernel_launcher.py:25: SettingWithCopyWarning: \n",
            "A value is trying to be set on a copy of a slice from a DataFrame\n",
            "\n",
            "See the caveats in the documentation: https://pandas.pydata.org/pandas-docs/stable/user_guide/indexing.html#returning-a-view-versus-a-copy\n",
            "/usr/local/lib/python3.6/dist-packages/ipykernel_launcher.py:26: SettingWithCopyWarning: \n",
            "A value is trying to be set on a copy of a slice from a DataFrame\n",
            "\n",
            "See the caveats in the documentation: https://pandas.pydata.org/pandas-docs/stable/user_guide/indexing.html#returning-a-view-versus-a-copy\n"
          ],
          "name": "stderr"
        }
      ]
    },
    {
      "cell_type": "code",
      "metadata": {
        "colab": {
          "base_uri": "https://localhost:8080/"
        },
        "id": "rZmKz9PEAABT",
        "outputId": "1b828a2a-4fe9-40f0-a88a-ef4f847d2f2e"
      },
      "source": [
        "train_scaled.isnull().sum()"
      ],
      "execution_count": null,
      "outputs": [
        {
          "output_type": "execute_result",
          "data": {
            "text/plain": [
              "Unnamed: 0    0\n",
              "X1 Diff       0\n",
              "X2 Diff       0\n",
              "X3 Diff       0\n",
              "X4 Diff       0\n",
              "Odds          0\n",
              "dtype: int64"
            ]
          },
          "metadata": {
            "tags": []
          },
          "execution_count": 40
        }
      ]
    },
    {
      "cell_type": "code",
      "metadata": {
        "colab": {
          "base_uri": "https://localhost:8080/",
          "height": 204
        },
        "id": "iZVxdR26igOS",
        "outputId": "bc5c2a78-8e30-458d-f8de-974dbaabb409"
      },
      "source": [
        "result = train_scaled.append(test_scaled)\n",
        "result.head()"
      ],
      "execution_count": null,
      "outputs": [
        {
          "output_type": "execute_result",
          "data": {
            "text/html": [
              "<div>\n",
              "<style scoped>\n",
              "    .dataframe tbody tr th:only-of-type {\n",
              "        vertical-align: middle;\n",
              "    }\n",
              "\n",
              "    .dataframe tbody tr th {\n",
              "        vertical-align: top;\n",
              "    }\n",
              "\n",
              "    .dataframe thead th {\n",
              "        text-align: right;\n",
              "    }\n",
              "</style>\n",
              "<table border=\"1\" class=\"dataframe\">\n",
              "  <thead>\n",
              "    <tr style=\"text-align: right;\">\n",
              "      <th></th>\n",
              "      <th>Unnamed: 0</th>\n",
              "      <th>X1 Diff</th>\n",
              "      <th>X2 Diff</th>\n",
              "      <th>X3 Diff</th>\n",
              "      <th>X4 Diff</th>\n",
              "      <th>Odds</th>\n",
              "    </tr>\n",
              "  </thead>\n",
              "  <tbody>\n",
              "    <tr>\n",
              "      <th>189</th>\n",
              "      <td>189</td>\n",
              "      <td>0.037155</td>\n",
              "      <td>0.488459</td>\n",
              "      <td>0.480769</td>\n",
              "      <td>0.250131</td>\n",
              "      <td>0.473684</td>\n",
              "    </tr>\n",
              "    <tr>\n",
              "      <th>32</th>\n",
              "      <td>32</td>\n",
              "      <td>0.397983</td>\n",
              "      <td>0.478174</td>\n",
              "      <td>0.489011</td>\n",
              "      <td>0.423542</td>\n",
              "      <td>0.339474</td>\n",
              "    </tr>\n",
              "    <tr>\n",
              "      <th>393</th>\n",
              "      <td>393</td>\n",
              "      <td>0.464260</td>\n",
              "      <td>0.508451</td>\n",
              "      <td>0.472527</td>\n",
              "      <td>0.476879</td>\n",
              "      <td>0.266842</td>\n",
              "    </tr>\n",
              "    <tr>\n",
              "      <th>12</th>\n",
              "      <td>12</td>\n",
              "      <td>0.489632</td>\n",
              "      <td>0.534881</td>\n",
              "      <td>0.568681</td>\n",
              "      <td>0.554125</td>\n",
              "      <td>0.173158</td>\n",
              "    </tr>\n",
              "    <tr>\n",
              "      <th>13</th>\n",
              "      <td>13</td>\n",
              "      <td>0.515817</td>\n",
              "      <td>0.536596</td>\n",
              "      <td>0.570330</td>\n",
              "      <td>0.562428</td>\n",
              "      <td>0.213158</td>\n",
              "    </tr>\n",
              "  </tbody>\n",
              "</table>\n",
              "</div>"
            ],
            "text/plain": [
              "     Unnamed: 0   X1 Diff   X2 Diff   X3 Diff   X4 Diff      Odds\n",
              "189         189  0.037155  0.488459  0.480769  0.250131  0.473684\n",
              "32           32  0.397983  0.478174  0.489011  0.423542  0.339474\n",
              "393         393  0.464260  0.508451  0.472527  0.476879  0.266842\n",
              "12           12  0.489632  0.534881  0.568681  0.554125  0.173158\n",
              "13           13  0.515817  0.536596  0.570330  0.562428  0.213158"
            ]
          },
          "metadata": {
            "tags": []
          },
          "execution_count": 41
        }
      ]
    },
    {
      "cell_type": "code",
      "metadata": {
        "colab": {
          "base_uri": "https://localhost:8080/"
        },
        "id": "OiDa-b1GACKI",
        "outputId": "ff2a3df5-6ee8-42ac-dc69-b4aada02325a"
      },
      "source": [
        "#calculate accruacy for KNN(1)\n",
        "#result and data_accuracy\n",
        "mse = 0\n",
        "\n",
        "for i in range (0, 512):\n",
        "  observed = data_accuracy[['X1 Diff', 'X2 Diff', 'X3 Diff', 'X4 Diff', 'Odds']].iloc[i].values\n",
        "  predicted = result[['X1 Diff', 'X2 Diff', 'X3 Diff', 'X4 Diff', 'Odds']].iloc[i].values\n",
        "  \n",
        "  for x in range (0, 5):\n",
        "    mse += ((observed[x] - predicted[x])**2) \n",
        "\n",
        "mse = mse * (1/len(result))   \n",
        "  \n",
        "print(mse)"
      ],
      "execution_count": null,
      "outputs": [
        {
          "output_type": "stream",
          "text": [
            "0.010230886335028997\n"
          ],
          "name": "stdout"
        }
      ]
    },
    {
      "cell_type": "markdown",
      "metadata": {
        "id": "ppAOnz5vCa6s"
      },
      "source": [
        "Weighted KNN (1):\n",
        "- Missing data\n",
        "- Imputing data\n",
        "- Accuracy"
      ]
    },
    {
      "cell_type": "code",
      "metadata": {
        "id": "0bLdAuXuCds4"
      },
      "source": [
        "data_scaled = pd.read_csv('/content/drive/MyDrive/Colab Notebooks/data_scaled.csv')"
      ],
      "execution_count": null,
      "outputs": []
    },
    {
      "cell_type": "code",
      "metadata": {
        "id": "D1vqIXztCl6W"
      },
      "source": [
        "test_scaled, train_scaled = sklearn.model_selection.train_test_split(data_scaled, train_size=256, test_size=256)"
      ],
      "execution_count": null,
      "outputs": []
    },
    {
      "cell_type": "code",
      "metadata": {
        "colab": {
          "base_uri": "https://localhost:8080/",
          "height": 204
        },
        "id": "IWRLWUPpSmYO",
        "outputId": "fa238d3d-46b8-4aa8-b657-f3b52eb99a83"
      },
      "source": [
        "data_accuracy = train_scaled.append(test_scaled)\n",
        "data_accuracy.head()"
      ],
      "execution_count": null,
      "outputs": [
        {
          "output_type": "execute_result",
          "data": {
            "text/html": [
              "<div>\n",
              "<style scoped>\n",
              "    .dataframe tbody tr th:only-of-type {\n",
              "        vertical-align: middle;\n",
              "    }\n",
              "\n",
              "    .dataframe tbody tr th {\n",
              "        vertical-align: top;\n",
              "    }\n",
              "\n",
              "    .dataframe thead th {\n",
              "        text-align: right;\n",
              "    }\n",
              "</style>\n",
              "<table border=\"1\" class=\"dataframe\">\n",
              "  <thead>\n",
              "    <tr style=\"text-align: right;\">\n",
              "      <th></th>\n",
              "      <th>Unnamed: 0</th>\n",
              "      <th>X1 Diff</th>\n",
              "      <th>X2 Diff</th>\n",
              "      <th>X3 Diff</th>\n",
              "      <th>X4 Diff</th>\n",
              "      <th>Odds</th>\n",
              "    </tr>\n",
              "  </thead>\n",
              "  <tbody>\n",
              "    <tr>\n",
              "      <th>371</th>\n",
              "      <td>371</td>\n",
              "      <td>0.601380</td>\n",
              "      <td>0.559996</td>\n",
              "      <td>0.609890</td>\n",
              "      <td>0.637940</td>\n",
              "      <td>0.073684</td>\n",
              "    </tr>\n",
              "    <tr>\n",
              "      <th>294</th>\n",
              "      <td>294</td>\n",
              "      <td>0.517870</td>\n",
              "      <td>0.448575</td>\n",
              "      <td>0.357143</td>\n",
              "      <td>0.418024</td>\n",
              "      <td>0.168421</td>\n",
              "    </tr>\n",
              "    <tr>\n",
              "      <th>417</th>\n",
              "      <td>417</td>\n",
              "      <td>0.657113</td>\n",
              "      <td>0.467510</td>\n",
              "      <td>0.384615</td>\n",
              "      <td>0.512612</td>\n",
              "      <td>0.105263</td>\n",
              "    </tr>\n",
              "    <tr>\n",
              "      <th>190</th>\n",
              "      <td>190</td>\n",
              "      <td>0.570594</td>\n",
              "      <td>0.504883</td>\n",
              "      <td>0.489011</td>\n",
              "      <td>0.535733</td>\n",
              "      <td>0.355263</td>\n",
              "    </tr>\n",
              "    <tr>\n",
              "      <th>129</th>\n",
              "      <td>129</td>\n",
              "      <td>0.289101</td>\n",
              "      <td>0.431533</td>\n",
              "      <td>0.461538</td>\n",
              "      <td>0.323174</td>\n",
              "      <td>0.368421</td>\n",
              "    </tr>\n",
              "  </tbody>\n",
              "</table>\n",
              "</div>"
            ],
            "text/plain": [
              "     Unnamed: 0   X1 Diff   X2 Diff   X3 Diff   X4 Diff      Odds\n",
              "371         371  0.601380  0.559996  0.609890  0.637940  0.073684\n",
              "294         294  0.517870  0.448575  0.357143  0.418024  0.168421\n",
              "417         417  0.657113  0.467510  0.384615  0.512612  0.105263\n",
              "190         190  0.570594  0.504883  0.489011  0.535733  0.355263\n",
              "129         129  0.289101  0.431533  0.461538  0.323174  0.368421"
            ]
          },
          "metadata": {
            "tags": []
          },
          "execution_count": 45
        }
      ]
    },
    {
      "cell_type": "markdown",
      "metadata": {
        "id": "-fXoNld_Sq_g"
      },
      "source": [
        "CREATE MISSING DATA"
      ]
    },
    {
      "cell_type": "code",
      "metadata": {
        "colab": {
          "base_uri": "https://localhost:8080/",
          "height": 714
        },
        "id": "vmMlrKFaC8UI",
        "outputId": "3f5eda27-13de-45f7-e60b-46ab4b166654"
      },
      "source": [
        "#reset data_scaled and set a new set of random missing numbers for weighted KNN(1)\n",
        "train_scaled['X1 Diff'] = train_scaled['X1 Diff'].sample(frac=0.50)\n",
        "train_scaled['X2 Diff'] = train_scaled['X2 Diff'].sample(frac=0.50)\n",
        "train_scaled['X3 Diff'] = train_scaled['X3 Diff'].sample(frac=0.50)\n",
        "train_scaled['X4 Diff'] = train_scaled['X4 Diff'].sample(frac=0.50)\n",
        "train_scaled['Odds'] = train_scaled['Odds'].sample(frac=0.50)\n",
        "train_scaled.head()"
      ],
      "execution_count": null,
      "outputs": [
        {
          "output_type": "stream",
          "text": [
            "/usr/local/lib/python3.6/dist-packages/ipykernel_launcher.py:2: SettingWithCopyWarning: \n",
            "A value is trying to be set on a copy of a slice from a DataFrame.\n",
            "Try using .loc[row_indexer,col_indexer] = value instead\n",
            "\n",
            "See the caveats in the documentation: https://pandas.pydata.org/pandas-docs/stable/user_guide/indexing.html#returning-a-view-versus-a-copy\n",
            "  \n",
            "/usr/local/lib/python3.6/dist-packages/ipykernel_launcher.py:3: SettingWithCopyWarning: \n",
            "A value is trying to be set on a copy of a slice from a DataFrame.\n",
            "Try using .loc[row_indexer,col_indexer] = value instead\n",
            "\n",
            "See the caveats in the documentation: https://pandas.pydata.org/pandas-docs/stable/user_guide/indexing.html#returning-a-view-versus-a-copy\n",
            "  This is separate from the ipykernel package so we can avoid doing imports until\n",
            "/usr/local/lib/python3.6/dist-packages/ipykernel_launcher.py:4: SettingWithCopyWarning: \n",
            "A value is trying to be set on a copy of a slice from a DataFrame.\n",
            "Try using .loc[row_indexer,col_indexer] = value instead\n",
            "\n",
            "See the caveats in the documentation: https://pandas.pydata.org/pandas-docs/stable/user_guide/indexing.html#returning-a-view-versus-a-copy\n",
            "  after removing the cwd from sys.path.\n",
            "/usr/local/lib/python3.6/dist-packages/ipykernel_launcher.py:5: SettingWithCopyWarning: \n",
            "A value is trying to be set on a copy of a slice from a DataFrame.\n",
            "Try using .loc[row_indexer,col_indexer] = value instead\n",
            "\n",
            "See the caveats in the documentation: https://pandas.pydata.org/pandas-docs/stable/user_guide/indexing.html#returning-a-view-versus-a-copy\n",
            "  \"\"\"\n",
            "/usr/local/lib/python3.6/dist-packages/ipykernel_launcher.py:6: SettingWithCopyWarning: \n",
            "A value is trying to be set on a copy of a slice from a DataFrame.\n",
            "Try using .loc[row_indexer,col_indexer] = value instead\n",
            "\n",
            "See the caveats in the documentation: https://pandas.pydata.org/pandas-docs/stable/user_guide/indexing.html#returning-a-view-versus-a-copy\n",
            "  \n"
          ],
          "name": "stderr"
        },
        {
          "output_type": "execute_result",
          "data": {
            "text/html": [
              "<div>\n",
              "<style scoped>\n",
              "    .dataframe tbody tr th:only-of-type {\n",
              "        vertical-align: middle;\n",
              "    }\n",
              "\n",
              "    .dataframe tbody tr th {\n",
              "        vertical-align: top;\n",
              "    }\n",
              "\n",
              "    .dataframe thead th {\n",
              "        text-align: right;\n",
              "    }\n",
              "</style>\n",
              "<table border=\"1\" class=\"dataframe\">\n",
              "  <thead>\n",
              "    <tr style=\"text-align: right;\">\n",
              "      <th></th>\n",
              "      <th>Unnamed: 0</th>\n",
              "      <th>X1 Diff</th>\n",
              "      <th>X2 Diff</th>\n",
              "      <th>X3 Diff</th>\n",
              "      <th>X4 Diff</th>\n",
              "      <th>Odds</th>\n",
              "    </tr>\n",
              "  </thead>\n",
              "  <tbody>\n",
              "    <tr>\n",
              "      <th>371</th>\n",
              "      <td>371</td>\n",
              "      <td>NaN</td>\n",
              "      <td>NaN</td>\n",
              "      <td>0.609890</td>\n",
              "      <td>NaN</td>\n",
              "      <td>0.073684</td>\n",
              "    </tr>\n",
              "    <tr>\n",
              "      <th>294</th>\n",
              "      <td>294</td>\n",
              "      <td>0.517870</td>\n",
              "      <td>0.448575</td>\n",
              "      <td>0.357143</td>\n",
              "      <td>NaN</td>\n",
              "      <td>0.168421</td>\n",
              "    </tr>\n",
              "    <tr>\n",
              "      <th>417</th>\n",
              "      <td>417</td>\n",
              "      <td>0.657113</td>\n",
              "      <td>NaN</td>\n",
              "      <td>0.384615</td>\n",
              "      <td>NaN</td>\n",
              "      <td>0.105263</td>\n",
              "    </tr>\n",
              "    <tr>\n",
              "      <th>190</th>\n",
              "      <td>190</td>\n",
              "      <td>NaN</td>\n",
              "      <td>0.504883</td>\n",
              "      <td>NaN</td>\n",
              "      <td>0.535733</td>\n",
              "      <td>NaN</td>\n",
              "    </tr>\n",
              "    <tr>\n",
              "      <th>129</th>\n",
              "      <td>129</td>\n",
              "      <td>0.289101</td>\n",
              "      <td>0.431533</td>\n",
              "      <td>NaN</td>\n",
              "      <td>0.323174</td>\n",
              "      <td>0.368421</td>\n",
              "    </tr>\n",
              "  </tbody>\n",
              "</table>\n",
              "</div>"
            ],
            "text/plain": [
              "     Unnamed: 0   X1 Diff   X2 Diff   X3 Diff   X4 Diff      Odds\n",
              "371         371       NaN       NaN  0.609890       NaN  0.073684\n",
              "294         294  0.517870  0.448575  0.357143       NaN  0.168421\n",
              "417         417  0.657113       NaN  0.384615       NaN  0.105263\n",
              "190         190       NaN  0.504883       NaN  0.535733       NaN\n",
              "129         129  0.289101  0.431533       NaN  0.323174  0.368421"
            ]
          },
          "metadata": {
            "tags": []
          },
          "execution_count": 46
        }
      ]
    },
    {
      "cell_type": "code",
      "metadata": {
        "colab": {
          "base_uri": "https://localhost:8080/"
        },
        "id": "-nTkxWYlDNWH",
        "outputId": "1dd772d6-2270-41ee-c1bd-7fc4b790b378"
      },
      "source": [
        "train_scaled.isnull().sum()"
      ],
      "execution_count": null,
      "outputs": [
        {
          "output_type": "execute_result",
          "data": {
            "text/plain": [
              "Unnamed: 0      0\n",
              "X1 Diff       128\n",
              "X2 Diff       128\n",
              "X3 Diff       128\n",
              "X4 Diff       128\n",
              "Odds          128\n",
              "dtype: int64"
            ]
          },
          "metadata": {
            "tags": []
          },
          "execution_count": 47
        }
      ]
    },
    {
      "cell_type": "markdown",
      "metadata": {
        "id": "VIrH5w-eSuND"
      },
      "source": [
        "IMPUTE MISSING DATA"
      ]
    },
    {
      "cell_type": "code",
      "metadata": {
        "id": "Pc5LK89gDSev",
        "colab": {
          "base_uri": "https://localhost:8080/"
        },
        "outputId": "912c4a59-6903-40e0-882c-4777ee096270"
      },
      "source": [
        "\n",
        "for i in range (0, 256):\n",
        "  #sets current row \n",
        "  row = train_scaled[['X1 Diff', 'X2 Diff', 'X3 Diff', 'X4 Diff', 'Odds']].iloc[i].values\n",
        "  distance = [] #resets distance to blank\n",
        "  #loops through the test set to create an array of distances\n",
        "  for j in test_scaled[['X1 Diff', 'X2 Diff', 'X3 Diff', 'X4 Diff', 'Odds']].values:\n",
        "    distance.append(euclidDis(row, j))\n",
        "  \n",
        "  #replace missing data by mean\n",
        "  m = test_scaled[['X1 Diff', 'X2 Diff', 'X3 Diff', 'X4 Diff', 'Odds']].iloc[distance.index(min(distance))].values\n",
        "\n",
        "  for x in range(0, 5):\n",
        "    if math.isnan(row[x]):\n",
        "      row[x] = m[x]\n",
        "\n",
        "  train_scaled['X1 Diff'].iloc[i] = row[0]\n",
        "  train_scaled['X2 Diff'].iloc[i] = row[1]\n",
        "  train_scaled['X3 Diff'].iloc[i] = row[2]\n",
        "  train_scaled['X4 Diff'].iloc[i] = row[3]\n",
        "  train_scaled['Odds'].iloc[i] = row[4]"
      ],
      "execution_count": null,
      "outputs": [
        {
          "output_type": "stream",
          "text": [
            "/usr/local/lib/python3.6/dist-packages/pandas/core/indexing.py:670: SettingWithCopyWarning: \n",
            "A value is trying to be set on a copy of a slice from a DataFrame\n",
            "\n",
            "See the caveats in the documentation: https://pandas.pydata.org/pandas-docs/stable/user_guide/indexing.html#returning-a-view-versus-a-copy\n",
            "  iloc._setitem_with_indexer(indexer, value)\n",
            "/usr/local/lib/python3.6/dist-packages/ipykernel_launcher.py:17: SettingWithCopyWarning: \n",
            "A value is trying to be set on a copy of a slice from a DataFrame\n",
            "\n",
            "See the caveats in the documentation: https://pandas.pydata.org/pandas-docs/stable/user_guide/indexing.html#returning-a-view-versus-a-copy\n",
            "/usr/local/lib/python3.6/dist-packages/ipykernel_launcher.py:18: SettingWithCopyWarning: \n",
            "A value is trying to be set on a copy of a slice from a DataFrame\n",
            "\n",
            "See the caveats in the documentation: https://pandas.pydata.org/pandas-docs/stable/user_guide/indexing.html#returning-a-view-versus-a-copy\n",
            "/usr/local/lib/python3.6/dist-packages/ipykernel_launcher.py:19: SettingWithCopyWarning: \n",
            "A value is trying to be set on a copy of a slice from a DataFrame\n",
            "\n",
            "See the caveats in the documentation: https://pandas.pydata.org/pandas-docs/stable/user_guide/indexing.html#returning-a-view-versus-a-copy\n",
            "/usr/local/lib/python3.6/dist-packages/ipykernel_launcher.py:20: SettingWithCopyWarning: \n",
            "A value is trying to be set on a copy of a slice from a DataFrame\n",
            "\n",
            "See the caveats in the documentation: https://pandas.pydata.org/pandas-docs/stable/user_guide/indexing.html#returning-a-view-versus-a-copy\n",
            "/usr/local/lib/python3.6/dist-packages/ipykernel_launcher.py:21: SettingWithCopyWarning: \n",
            "A value is trying to be set on a copy of a slice from a DataFrame\n",
            "\n",
            "See the caveats in the documentation: https://pandas.pydata.org/pandas-docs/stable/user_guide/indexing.html#returning-a-view-versus-a-copy\n"
          ],
          "name": "stderr"
        }
      ]
    },
    {
      "cell_type": "code",
      "metadata": {
        "colab": {
          "base_uri": "https://localhost:8080/"
        },
        "id": "2wZu4BOcS303",
        "outputId": "d3e6608e-5f4b-4ea8-c6e2-922a9c0b536e"
      },
      "source": [
        "train_scaled.isnull().sum()"
      ],
      "execution_count": null,
      "outputs": [
        {
          "output_type": "execute_result",
          "data": {
            "text/plain": [
              "Unnamed: 0    0\n",
              "X1 Diff       0\n",
              "X2 Diff       0\n",
              "X3 Diff       0\n",
              "X4 Diff       0\n",
              "Odds          0\n",
              "dtype: int64"
            ]
          },
          "metadata": {
            "tags": []
          },
          "execution_count": 49
        }
      ]
    },
    {
      "cell_type": "code",
      "metadata": {
        "colab": {
          "base_uri": "https://localhost:8080/",
          "height": 204
        },
        "id": "TNK-LjyZS61U",
        "outputId": "971e88b6-bb75-4cb4-99f3-bc820b77c1de"
      },
      "source": [
        "result = train_scaled.append(test_scaled)\n",
        "result.head()"
      ],
      "execution_count": null,
      "outputs": [
        {
          "output_type": "execute_result",
          "data": {
            "text/html": [
              "<div>\n",
              "<style scoped>\n",
              "    .dataframe tbody tr th:only-of-type {\n",
              "        vertical-align: middle;\n",
              "    }\n",
              "\n",
              "    .dataframe tbody tr th {\n",
              "        vertical-align: top;\n",
              "    }\n",
              "\n",
              "    .dataframe thead th {\n",
              "        text-align: right;\n",
              "    }\n",
              "</style>\n",
              "<table border=\"1\" class=\"dataframe\">\n",
              "  <thead>\n",
              "    <tr style=\"text-align: right;\">\n",
              "      <th></th>\n",
              "      <th>Unnamed: 0</th>\n",
              "      <th>X1 Diff</th>\n",
              "      <th>X2 Diff</th>\n",
              "      <th>X3 Diff</th>\n",
              "      <th>X4 Diff</th>\n",
              "      <th>Odds</th>\n",
              "    </tr>\n",
              "  </thead>\n",
              "  <tbody>\n",
              "    <tr>\n",
              "      <th>371</th>\n",
              "      <td>371</td>\n",
              "      <td>0.667905</td>\n",
              "      <td>0.515746</td>\n",
              "      <td>0.609890</td>\n",
              "      <td>0.630321</td>\n",
              "      <td>0.073684</td>\n",
              "    </tr>\n",
              "    <tr>\n",
              "      <th>294</th>\n",
              "      <td>294</td>\n",
              "      <td>0.517870</td>\n",
              "      <td>0.448575</td>\n",
              "      <td>0.357143</td>\n",
              "      <td>0.405413</td>\n",
              "      <td>0.168421</td>\n",
              "    </tr>\n",
              "    <tr>\n",
              "      <th>417</th>\n",
              "      <td>417</td>\n",
              "      <td>0.657113</td>\n",
              "      <td>0.482260</td>\n",
              "      <td>0.384615</td>\n",
              "      <td>0.519706</td>\n",
              "      <td>0.105263</td>\n",
              "    </tr>\n",
              "    <tr>\n",
              "      <th>190</th>\n",
              "      <td>190</td>\n",
              "      <td>0.515039</td>\n",
              "      <td>0.504883</td>\n",
              "      <td>0.560440</td>\n",
              "      <td>0.535733</td>\n",
              "      <td>0.302632</td>\n",
              "    </tr>\n",
              "    <tr>\n",
              "      <th>129</th>\n",
              "      <td>129</td>\n",
              "      <td>0.289101</td>\n",
              "      <td>0.431533</td>\n",
              "      <td>0.379121</td>\n",
              "      <td>0.323174</td>\n",
              "      <td>0.368421</td>\n",
              "    </tr>\n",
              "  </tbody>\n",
              "</table>\n",
              "</div>"
            ],
            "text/plain": [
              "     Unnamed: 0   X1 Diff   X2 Diff   X3 Diff   X4 Diff      Odds\n",
              "371         371  0.667905  0.515746  0.609890  0.630321  0.073684\n",
              "294         294  0.517870  0.448575  0.357143  0.405413  0.168421\n",
              "417         417  0.657113  0.482260  0.384615  0.519706  0.105263\n",
              "190         190  0.515039  0.504883  0.560440  0.535733  0.302632\n",
              "129         129  0.289101  0.431533  0.379121  0.323174  0.368421"
            ]
          },
          "metadata": {
            "tags": []
          },
          "execution_count": 50
        }
      ]
    },
    {
      "cell_type": "markdown",
      "metadata": {
        "id": "-tumYj_CS8Nx"
      },
      "source": [
        "CALCULATE MSE"
      ]
    },
    {
      "cell_type": "code",
      "metadata": {
        "colab": {
          "base_uri": "https://localhost:8080/"
        },
        "id": "P8Lq-aQNS_Nl",
        "outputId": "f6290cf5-f8d8-46b0-bc4a-6b5938dd287a"
      },
      "source": [
        "#calculate accruacy for WEIGHTED KNN(1)\n",
        "#result and data_accuracy\n",
        "mse = 0\n",
        "\n",
        "for i in range (0, 512):\n",
        "  observed = data_accuracy[['X1 Diff', 'X2 Diff', 'X3 Diff', 'X4 Diff', 'Odds']].iloc[i].values\n",
        "  predicted = result[['X1 Diff', 'X2 Diff', 'X3 Diff', 'X4 Diff', 'Odds']].iloc[i].values\n",
        "  \n",
        "  for x in range (0, 5):\n",
        "    mse += ((observed[x] - predicted[x])**2) \n",
        "\n",
        "mse = mse * (1/len(result))   \n",
        "  \n",
        "print(mse)"
      ],
      "execution_count": null,
      "outputs": [
        {
          "output_type": "stream",
          "text": [
            "0.016772173321864592\n"
          ],
          "name": "stdout"
        }
      ]
    },
    {
      "cell_type": "markdown",
      "metadata": {
        "id": "BbXkhCYyU0SI"
      },
      "source": [
        "Weighted KNN (3):\n",
        "- Missing data\n",
        "- Imputing data\n",
        "- Accuracy"
      ]
    },
    {
      "cell_type": "code",
      "metadata": {
        "id": "pFd_Zy-BU49_"
      },
      "source": [
        "data_scaled = pd.read_csv('/content/drive/MyDrive/Colab Notebooks/data_scaled.csv')"
      ],
      "execution_count": null,
      "outputs": []
    },
    {
      "cell_type": "code",
      "metadata": {
        "id": "MLXBGX9xVEHU"
      },
      "source": [
        "test_scaled, train_scaled = sklearn.model_selection.train_test_split(data_scaled, train_size=256, test_size=256)"
      ],
      "execution_count": null,
      "outputs": []
    },
    {
      "cell_type": "code",
      "metadata": {
        "id": "vfik-01HVEpI",
        "colab": {
          "base_uri": "https://localhost:8080/",
          "height": 204
        },
        "outputId": "790fb4be-323b-4d91-9040-23b4c0109806"
      },
      "source": [
        "data_accuracy = train_scaled.append(test_scaled)\n",
        "data_accuracy.head()"
      ],
      "execution_count": null,
      "outputs": [
        {
          "output_type": "execute_result",
          "data": {
            "text/html": [
              "<div>\n",
              "<style scoped>\n",
              "    .dataframe tbody tr th:only-of-type {\n",
              "        vertical-align: middle;\n",
              "    }\n",
              "\n",
              "    .dataframe tbody tr th {\n",
              "        vertical-align: top;\n",
              "    }\n",
              "\n",
              "    .dataframe thead th {\n",
              "        text-align: right;\n",
              "    }\n",
              "</style>\n",
              "<table border=\"1\" class=\"dataframe\">\n",
              "  <thead>\n",
              "    <tr style=\"text-align: right;\">\n",
              "      <th></th>\n",
              "      <th>Unnamed: 0</th>\n",
              "      <th>X1 Diff</th>\n",
              "      <th>X2 Diff</th>\n",
              "      <th>X3 Diff</th>\n",
              "      <th>X4 Diff</th>\n",
              "      <th>Odds</th>\n",
              "    </tr>\n",
              "  </thead>\n",
              "  <tbody>\n",
              "    <tr>\n",
              "      <th>107</th>\n",
              "      <td>107</td>\n",
              "      <td>0.547594</td>\n",
              "      <td>0.570660</td>\n",
              "      <td>0.725275</td>\n",
              "      <td>0.657383</td>\n",
              "      <td>0.057895</td>\n",
              "    </tr>\n",
              "    <tr>\n",
              "      <th>281</th>\n",
              "      <td>281</td>\n",
              "      <td>0.370665</td>\n",
              "      <td>0.450369</td>\n",
              "      <td>0.373626</td>\n",
              "      <td>0.352076</td>\n",
              "      <td>0.289474</td>\n",
              "    </tr>\n",
              "    <tr>\n",
              "      <th>370</th>\n",
              "      <td>370</td>\n",
              "      <td>0.398620</td>\n",
              "      <td>0.440004</td>\n",
              "      <td>0.390110</td>\n",
              "      <td>0.362060</td>\n",
              "      <td>0.552632</td>\n",
              "    </tr>\n",
              "    <tr>\n",
              "      <th>391</th>\n",
              "      <td>391</td>\n",
              "      <td>0.576256</td>\n",
              "      <td>0.392964</td>\n",
              "      <td>0.225275</td>\n",
              "      <td>0.356017</td>\n",
              "      <td>0.236842</td>\n",
              "    </tr>\n",
              "    <tr>\n",
              "      <th>497</th>\n",
              "      <td>497</td>\n",
              "      <td>0.534855</td>\n",
              "      <td>0.460634</td>\n",
              "      <td>0.461538</td>\n",
              "      <td>0.470573</td>\n",
              "      <td>0.192105</td>\n",
              "    </tr>\n",
              "  </tbody>\n",
              "</table>\n",
              "</div>"
            ],
            "text/plain": [
              "     Unnamed: 0   X1 Diff   X2 Diff   X3 Diff   X4 Diff      Odds\n",
              "107         107  0.547594  0.570660  0.725275  0.657383  0.057895\n",
              "281         281  0.370665  0.450369  0.373626  0.352076  0.289474\n",
              "370         370  0.398620  0.440004  0.390110  0.362060  0.552632\n",
              "391         391  0.576256  0.392964  0.225275  0.356017  0.236842\n",
              "497         497  0.534855  0.460634  0.461538  0.470573  0.192105"
            ]
          },
          "metadata": {
            "tags": []
          },
          "execution_count": 54
        }
      ]
    },
    {
      "cell_type": "markdown",
      "metadata": {
        "id": "FYt6jsfMVGZC"
      },
      "source": [
        "CREATE MISSING DATA"
      ]
    },
    {
      "cell_type": "code",
      "metadata": {
        "id": "bdbG5yLlVItg",
        "colab": {
          "base_uri": "https://localhost:8080/",
          "height": 714
        },
        "outputId": "46481cb4-b20b-444e-a833-f00924ed722a"
      },
      "source": [
        "#reset data_scaled and set a new set of random missing numbers for weighted KNN(3)\n",
        "train_scaled['X1 Diff'] = train_scaled['X1 Diff'].sample(frac=0.50)\n",
        "train_scaled['X2 Diff'] = train_scaled['X2 Diff'].sample(frac=0.50)\n",
        "train_scaled['X3 Diff'] = train_scaled['X3 Diff'].sample(frac=0.50)\n",
        "train_scaled['X4 Diff'] = train_scaled['X4 Diff'].sample(frac=0.50)\n",
        "train_scaled['Odds'] = train_scaled['Odds'].sample(frac=0.50)\n",
        "train_scaled.head()"
      ],
      "execution_count": null,
      "outputs": [
        {
          "output_type": "stream",
          "text": [
            "/usr/local/lib/python3.6/dist-packages/ipykernel_launcher.py:2: SettingWithCopyWarning: \n",
            "A value is trying to be set on a copy of a slice from a DataFrame.\n",
            "Try using .loc[row_indexer,col_indexer] = value instead\n",
            "\n",
            "See the caveats in the documentation: https://pandas.pydata.org/pandas-docs/stable/user_guide/indexing.html#returning-a-view-versus-a-copy\n",
            "  \n",
            "/usr/local/lib/python3.6/dist-packages/ipykernel_launcher.py:3: SettingWithCopyWarning: \n",
            "A value is trying to be set on a copy of a slice from a DataFrame.\n",
            "Try using .loc[row_indexer,col_indexer] = value instead\n",
            "\n",
            "See the caveats in the documentation: https://pandas.pydata.org/pandas-docs/stable/user_guide/indexing.html#returning-a-view-versus-a-copy\n",
            "  This is separate from the ipykernel package so we can avoid doing imports until\n",
            "/usr/local/lib/python3.6/dist-packages/ipykernel_launcher.py:4: SettingWithCopyWarning: \n",
            "A value is trying to be set on a copy of a slice from a DataFrame.\n",
            "Try using .loc[row_indexer,col_indexer] = value instead\n",
            "\n",
            "See the caveats in the documentation: https://pandas.pydata.org/pandas-docs/stable/user_guide/indexing.html#returning-a-view-versus-a-copy\n",
            "  after removing the cwd from sys.path.\n",
            "/usr/local/lib/python3.6/dist-packages/ipykernel_launcher.py:5: SettingWithCopyWarning: \n",
            "A value is trying to be set on a copy of a slice from a DataFrame.\n",
            "Try using .loc[row_indexer,col_indexer] = value instead\n",
            "\n",
            "See the caveats in the documentation: https://pandas.pydata.org/pandas-docs/stable/user_guide/indexing.html#returning-a-view-versus-a-copy\n",
            "  \"\"\"\n",
            "/usr/local/lib/python3.6/dist-packages/ipykernel_launcher.py:6: SettingWithCopyWarning: \n",
            "A value is trying to be set on a copy of a slice from a DataFrame.\n",
            "Try using .loc[row_indexer,col_indexer] = value instead\n",
            "\n",
            "See the caveats in the documentation: https://pandas.pydata.org/pandas-docs/stable/user_guide/indexing.html#returning-a-view-versus-a-copy\n",
            "  \n"
          ],
          "name": "stderr"
        },
        {
          "output_type": "execute_result",
          "data": {
            "text/html": [
              "<div>\n",
              "<style scoped>\n",
              "    .dataframe tbody tr th:only-of-type {\n",
              "        vertical-align: middle;\n",
              "    }\n",
              "\n",
              "    .dataframe tbody tr th {\n",
              "        vertical-align: top;\n",
              "    }\n",
              "\n",
              "    .dataframe thead th {\n",
              "        text-align: right;\n",
              "    }\n",
              "</style>\n",
              "<table border=\"1\" class=\"dataframe\">\n",
              "  <thead>\n",
              "    <tr style=\"text-align: right;\">\n",
              "      <th></th>\n",
              "      <th>Unnamed: 0</th>\n",
              "      <th>X1 Diff</th>\n",
              "      <th>X2 Diff</th>\n",
              "      <th>X3 Diff</th>\n",
              "      <th>X4 Diff</th>\n",
              "      <th>Odds</th>\n",
              "    </tr>\n",
              "  </thead>\n",
              "  <tbody>\n",
              "    <tr>\n",
              "      <th>107</th>\n",
              "      <td>107</td>\n",
              "      <td>0.547594</td>\n",
              "      <td>0.570660</td>\n",
              "      <td>0.725275</td>\n",
              "      <td>0.657383</td>\n",
              "      <td>0.057895</td>\n",
              "    </tr>\n",
              "    <tr>\n",
              "      <th>281</th>\n",
              "      <td>281</td>\n",
              "      <td>0.370665</td>\n",
              "      <td>0.450369</td>\n",
              "      <td>NaN</td>\n",
              "      <td>NaN</td>\n",
              "      <td>NaN</td>\n",
              "    </tr>\n",
              "    <tr>\n",
              "      <th>370</th>\n",
              "      <td>370</td>\n",
              "      <td>NaN</td>\n",
              "      <td>NaN</td>\n",
              "      <td>0.390110</td>\n",
              "      <td>0.362060</td>\n",
              "      <td>NaN</td>\n",
              "    </tr>\n",
              "    <tr>\n",
              "      <th>391</th>\n",
              "      <td>391</td>\n",
              "      <td>NaN</td>\n",
              "      <td>NaN</td>\n",
              "      <td>0.225275</td>\n",
              "      <td>NaN</td>\n",
              "      <td>NaN</td>\n",
              "    </tr>\n",
              "    <tr>\n",
              "      <th>497</th>\n",
              "      <td>497</td>\n",
              "      <td>0.534855</td>\n",
              "      <td>NaN</td>\n",
              "      <td>NaN</td>\n",
              "      <td>0.470573</td>\n",
              "      <td>NaN</td>\n",
              "    </tr>\n",
              "  </tbody>\n",
              "</table>\n",
              "</div>"
            ],
            "text/plain": [
              "     Unnamed: 0   X1 Diff   X2 Diff   X3 Diff   X4 Diff      Odds\n",
              "107         107  0.547594  0.570660  0.725275  0.657383  0.057895\n",
              "281         281  0.370665  0.450369       NaN       NaN       NaN\n",
              "370         370       NaN       NaN  0.390110  0.362060       NaN\n",
              "391         391       NaN       NaN  0.225275       NaN       NaN\n",
              "497         497  0.534855       NaN       NaN  0.470573       NaN"
            ]
          },
          "metadata": {
            "tags": []
          },
          "execution_count": 55
        }
      ]
    },
    {
      "cell_type": "code",
      "metadata": {
        "id": "zpuel2ofVNsQ",
        "colab": {
          "base_uri": "https://localhost:8080/"
        },
        "outputId": "88a82ead-90eb-4ca7-fc7b-4aed54b49b1f"
      },
      "source": [
        "train_scaled.isnull().sum()"
      ],
      "execution_count": null,
      "outputs": [
        {
          "output_type": "execute_result",
          "data": {
            "text/plain": [
              "Unnamed: 0      0\n",
              "X1 Diff       128\n",
              "X2 Diff       128\n",
              "X3 Diff       128\n",
              "X4 Diff       128\n",
              "Odds          128\n",
              "dtype: int64"
            ]
          },
          "metadata": {
            "tags": []
          },
          "execution_count": 56
        }
      ]
    },
    {
      "cell_type": "markdown",
      "metadata": {
        "id": "ucfxpK0iVPet"
      },
      "source": [
        "IMPUTE MISSING DATA"
      ]
    },
    {
      "cell_type": "code",
      "metadata": {
        "id": "PKhaSHLVVSau",
        "colab": {
          "base_uri": "https://localhost:8080/"
        },
        "outputId": "abe71aaa-e261-4e94-b6a8-77fe694a8dad"
      },
      "source": [
        "#weights for weigted average\n",
        "#the closer distances are wegithed twice as heavily as the following distances\n",
        "#distance 1 is weighted twice as much as distance 2\n",
        "#distance 2 is weighted twice as much as distance 3\n",
        "\n",
        "a1 = 0.5714285716\n",
        "a2 = 0.2857142858\n",
        "a3 = 0.1428571429\n",
        "\n",
        "for i in range (0, 256):\n",
        "  #sets current row \n",
        "  row = train_scaled[['X1 Diff', 'X2 Diff', 'X3 Diff', 'X4 Diff', 'Odds']].iloc[i].values\n",
        "  distance = [] #resets distance to blank\n",
        "  #loops through the test set to create an array of distances\n",
        "  for j in test_scaled[['X1 Diff', 'X2 Diff', 'X3 Diff', 'X4 Diff', 'Odds']].values:\n",
        "    distance.append(euclidDis(row, j))\n",
        "  \n",
        "  #replace missing data by weighted mean\n",
        "  m1, m2, m3 = findThreeClosest(distance)\n",
        "\n",
        "  avg = []\n",
        "\n",
        "  for a in range(0, 5):\n",
        "    avg.append((m1[a]*a1) + (m2[a]*a2) + (m3[a]*a3))\n",
        "\n",
        "  for x in range(0, 5):\n",
        "    if math.isnan(row[x]):\n",
        "      row[x] = m[x]\n",
        "\n",
        "  train_scaled['X1 Diff'].iloc[i] = row[0]\n",
        "  train_scaled['X2 Diff'].iloc[i] = row[1]\n",
        "  train_scaled['X3 Diff'].iloc[i] = row[2]\n",
        "  train_scaled['X4 Diff'].iloc[i] = row[3]\n",
        "  train_scaled['Odds'].iloc[i] = row[4]"
      ],
      "execution_count": null,
      "outputs": [
        {
          "output_type": "stream",
          "text": [
            "/usr/local/lib/python3.6/dist-packages/pandas/core/indexing.py:670: SettingWithCopyWarning: \n",
            "A value is trying to be set on a copy of a slice from a DataFrame\n",
            "\n",
            "See the caveats in the documentation: https://pandas.pydata.org/pandas-docs/stable/user_guide/indexing.html#returning-a-view-versus-a-copy\n",
            "  iloc._setitem_with_indexer(indexer, value)\n",
            "/usr/local/lib/python3.6/dist-packages/ipykernel_launcher.py:30: SettingWithCopyWarning: \n",
            "A value is trying to be set on a copy of a slice from a DataFrame\n",
            "\n",
            "See the caveats in the documentation: https://pandas.pydata.org/pandas-docs/stable/user_guide/indexing.html#returning-a-view-versus-a-copy\n",
            "/usr/local/lib/python3.6/dist-packages/ipykernel_launcher.py:31: SettingWithCopyWarning: \n",
            "A value is trying to be set on a copy of a slice from a DataFrame\n",
            "\n",
            "See the caveats in the documentation: https://pandas.pydata.org/pandas-docs/stable/user_guide/indexing.html#returning-a-view-versus-a-copy\n",
            "/usr/local/lib/python3.6/dist-packages/ipykernel_launcher.py:32: SettingWithCopyWarning: \n",
            "A value is trying to be set on a copy of a slice from a DataFrame\n",
            "\n",
            "See the caveats in the documentation: https://pandas.pydata.org/pandas-docs/stable/user_guide/indexing.html#returning-a-view-versus-a-copy\n",
            "/usr/local/lib/python3.6/dist-packages/ipykernel_launcher.py:33: SettingWithCopyWarning: \n",
            "A value is trying to be set on a copy of a slice from a DataFrame\n",
            "\n",
            "See the caveats in the documentation: https://pandas.pydata.org/pandas-docs/stable/user_guide/indexing.html#returning-a-view-versus-a-copy\n",
            "/usr/local/lib/python3.6/dist-packages/ipykernel_launcher.py:34: SettingWithCopyWarning: \n",
            "A value is trying to be set on a copy of a slice from a DataFrame\n",
            "\n",
            "See the caveats in the documentation: https://pandas.pydata.org/pandas-docs/stable/user_guide/indexing.html#returning-a-view-versus-a-copy\n"
          ],
          "name": "stderr"
        }
      ]
    },
    {
      "cell_type": "code",
      "metadata": {
        "id": "O6F6MqVjVZgM",
        "colab": {
          "base_uri": "https://localhost:8080/"
        },
        "outputId": "dd61e2d2-31a2-45ba-d1fc-d11ca660c3b4"
      },
      "source": [
        "train_scaled.isnull().sum()"
      ],
      "execution_count": null,
      "outputs": [
        {
          "output_type": "execute_result",
          "data": {
            "text/plain": [
              "Unnamed: 0    0\n",
              "X1 Diff       0\n",
              "X2 Diff       0\n",
              "X3 Diff       0\n",
              "X4 Diff       0\n",
              "Odds          0\n",
              "dtype: int64"
            ]
          },
          "metadata": {
            "tags": []
          },
          "execution_count": 58
        }
      ]
    },
    {
      "cell_type": "code",
      "metadata": {
        "id": "PezbnZYaVcbH",
        "colab": {
          "base_uri": "https://localhost:8080/",
          "height": 204
        },
        "outputId": "a79ad591-9896-4ec0-afc2-db92f261324a"
      },
      "source": [
        "result = train_scaled.append(test_scaled)\n",
        "result.head()"
      ],
      "execution_count": null,
      "outputs": [
        {
          "output_type": "execute_result",
          "data": {
            "text/html": [
              "<div>\n",
              "<style scoped>\n",
              "    .dataframe tbody tr th:only-of-type {\n",
              "        vertical-align: middle;\n",
              "    }\n",
              "\n",
              "    .dataframe tbody tr th {\n",
              "        vertical-align: top;\n",
              "    }\n",
              "\n",
              "    .dataframe thead th {\n",
              "        text-align: right;\n",
              "    }\n",
              "</style>\n",
              "<table border=\"1\" class=\"dataframe\">\n",
              "  <thead>\n",
              "    <tr style=\"text-align: right;\">\n",
              "      <th></th>\n",
              "      <th>Unnamed: 0</th>\n",
              "      <th>X1 Diff</th>\n",
              "      <th>X2 Diff</th>\n",
              "      <th>X3 Diff</th>\n",
              "      <th>X4 Diff</th>\n",
              "      <th>Odds</th>\n",
              "    </tr>\n",
              "  </thead>\n",
              "  <tbody>\n",
              "    <tr>\n",
              "      <th>107</th>\n",
              "      <td>107</td>\n",
              "      <td>0.547594</td>\n",
              "      <td>0.570660</td>\n",
              "      <td>0.725275</td>\n",
              "      <td>0.657383</td>\n",
              "      <td>0.057895</td>\n",
              "    </tr>\n",
              "    <tr>\n",
              "      <th>281</th>\n",
              "      <td>281</td>\n",
              "      <td>0.370665</td>\n",
              "      <td>0.450369</td>\n",
              "      <td>0.434066</td>\n",
              "      <td>0.492118</td>\n",
              "      <td>0.121053</td>\n",
              "    </tr>\n",
              "    <tr>\n",
              "      <th>370</th>\n",
              "      <td>370</td>\n",
              "      <td>0.562810</td>\n",
              "      <td>0.479669</td>\n",
              "      <td>0.390110</td>\n",
              "      <td>0.362060</td>\n",
              "      <td>0.121053</td>\n",
              "    </tr>\n",
              "    <tr>\n",
              "      <th>391</th>\n",
              "      <td>391</td>\n",
              "      <td>0.562810</td>\n",
              "      <td>0.479669</td>\n",
              "      <td>0.225275</td>\n",
              "      <td>0.492118</td>\n",
              "      <td>0.121053</td>\n",
              "    </tr>\n",
              "    <tr>\n",
              "      <th>497</th>\n",
              "      <td>497</td>\n",
              "      <td>0.534855</td>\n",
              "      <td>0.479669</td>\n",
              "      <td>0.434066</td>\n",
              "      <td>0.470573</td>\n",
              "      <td>0.121053</td>\n",
              "    </tr>\n",
              "  </tbody>\n",
              "</table>\n",
              "</div>"
            ],
            "text/plain": [
              "     Unnamed: 0   X1 Diff   X2 Diff   X3 Diff   X4 Diff      Odds\n",
              "107         107  0.547594  0.570660  0.725275  0.657383  0.057895\n",
              "281         281  0.370665  0.450369  0.434066  0.492118  0.121053\n",
              "370         370  0.562810  0.479669  0.390110  0.362060  0.121053\n",
              "391         391  0.562810  0.479669  0.225275  0.492118  0.121053\n",
              "497         497  0.534855  0.479669  0.434066  0.470573  0.121053"
            ]
          },
          "metadata": {
            "tags": []
          },
          "execution_count": 59
        }
      ]
    },
    {
      "cell_type": "markdown",
      "metadata": {
        "id": "tu6nQAG8Vd96"
      },
      "source": [
        "CALCULATE MSE"
      ]
    },
    {
      "cell_type": "code",
      "metadata": {
        "id": "EjcqwS0eVhYS",
        "colab": {
          "base_uri": "https://localhost:8080/"
        },
        "outputId": "7d868eca-90b4-4a8b-9813-d6a213277ff4"
      },
      "source": [
        "#calculate accruacy for WEIGHTED KNN(3)\n",
        "#result and data_accuracy\n",
        "mse = 0\n",
        "\n",
        "for i in range (0, 512):\n",
        "  observed = data_accuracy[['X1 Diff', 'X2 Diff', 'X3 Diff', 'X4 Diff', 'Odds']].iloc[i].values\n",
        "  predicted = result[['X1 Diff', 'X2 Diff', 'X3 Diff', 'X4 Diff', 'Odds']].iloc[i].values\n",
        "  \n",
        "  for x in range (0, 5):\n",
        "    mse += ((observed[x] - predicted[x])**2) \n",
        "\n",
        "mse = mse * (1/len(result))   \n",
        "  \n",
        "print(mse)"
      ],
      "execution_count": null,
      "outputs": [
        {
          "output_type": "stream",
          "text": [
            "0.02323671592883831\n"
          ],
          "name": "stdout"
        }
      ]
    },
    {
      "cell_type": "markdown",
      "metadata": {
        "id": "B5tjlPmfVlQ4"
      },
      "source": [
        "Weighted KNN (5):\n",
        "- Missing data\n",
        "- Imputing data\n",
        "- Accuracy"
      ]
    },
    {
      "cell_type": "code",
      "metadata": {
        "id": "IyFVqufOVquz"
      },
      "source": [
        "data_scaled = pd.read_csv('/content/drive/MyDrive/Colab Notebooks/data_scaled.csv')"
      ],
      "execution_count": null,
      "outputs": []
    },
    {
      "cell_type": "code",
      "metadata": {
        "id": "-xWxMkHlVtpj"
      },
      "source": [
        "test_scaled, train_scaled = sklearn.model_selection.train_test_split(data_scaled, train_size=256, test_size=256)"
      ],
      "execution_count": null,
      "outputs": []
    },
    {
      "cell_type": "code",
      "metadata": {
        "id": "iGfXgKfrVwbk",
        "colab": {
          "base_uri": "https://localhost:8080/",
          "height": 204
        },
        "outputId": "624f3053-0719-4491-b0be-2a92a0752a7d"
      },
      "source": [
        "data_accuracy = train_scaled.append(test_scaled)\n",
        "data_accuracy.head()"
      ],
      "execution_count": null,
      "outputs": [
        {
          "output_type": "execute_result",
          "data": {
            "text/html": [
              "<div>\n",
              "<style scoped>\n",
              "    .dataframe tbody tr th:only-of-type {\n",
              "        vertical-align: middle;\n",
              "    }\n",
              "\n",
              "    .dataframe tbody tr th {\n",
              "        vertical-align: top;\n",
              "    }\n",
              "\n",
              "    .dataframe thead th {\n",
              "        text-align: right;\n",
              "    }\n",
              "</style>\n",
              "<table border=\"1\" class=\"dataframe\">\n",
              "  <thead>\n",
              "    <tr style=\"text-align: right;\">\n",
              "      <th></th>\n",
              "      <th>Unnamed: 0</th>\n",
              "      <th>X1 Diff</th>\n",
              "      <th>X2 Diff</th>\n",
              "      <th>X3 Diff</th>\n",
              "      <th>X4 Diff</th>\n",
              "      <th>Odds</th>\n",
              "    </tr>\n",
              "  </thead>\n",
              "  <tbody>\n",
              "    <tr>\n",
              "      <th>457</th>\n",
              "      <td>457</td>\n",
              "      <td>0.498054</td>\n",
              "      <td>0.535180</td>\n",
              "      <td>0.535714</td>\n",
              "      <td>0.541251</td>\n",
              "      <td>0.186842</td>\n",
              "    </tr>\n",
              "    <tr>\n",
              "      <th>97</th>\n",
              "      <td>97</td>\n",
              "      <td>0.369958</td>\n",
              "      <td>0.539565</td>\n",
              "      <td>0.516484</td>\n",
              "      <td>0.475828</td>\n",
              "      <td>0.223684</td>\n",
              "    </tr>\n",
              "    <tr>\n",
              "      <th>305</th>\n",
              "      <td>305</td>\n",
              "      <td>0.528662</td>\n",
              "      <td>0.516145</td>\n",
              "      <td>0.552198</td>\n",
              "      <td>0.544929</td>\n",
              "      <td>0.136842</td>\n",
              "    </tr>\n",
              "    <tr>\n",
              "      <th>169</th>\n",
              "      <td>169</td>\n",
              "      <td>0.322010</td>\n",
              "      <td>0.453857</td>\n",
              "      <td>0.436813</td>\n",
              "      <td>0.351287</td>\n",
              "      <td>0.355263</td>\n",
              "    </tr>\n",
              "    <tr>\n",
              "      <th>43</th>\n",
              "      <td>43</td>\n",
              "      <td>0.463022</td>\n",
              "      <td>0.478174</td>\n",
              "      <td>0.362637</td>\n",
              "      <td>0.418812</td>\n",
              "      <td>0.289474</td>\n",
              "    </tr>\n",
              "  </tbody>\n",
              "</table>\n",
              "</div>"
            ],
            "text/plain": [
              "     Unnamed: 0   X1 Diff   X2 Diff   X3 Diff   X4 Diff      Odds\n",
              "457         457  0.498054  0.535180  0.535714  0.541251  0.186842\n",
              "97           97  0.369958  0.539565  0.516484  0.475828  0.223684\n",
              "305         305  0.528662  0.516145  0.552198  0.544929  0.136842\n",
              "169         169  0.322010  0.453857  0.436813  0.351287  0.355263\n",
              "43           43  0.463022  0.478174  0.362637  0.418812  0.289474"
            ]
          },
          "metadata": {
            "tags": []
          },
          "execution_count": 72
        }
      ]
    },
    {
      "cell_type": "markdown",
      "metadata": {
        "id": "qcXvjOcVVxmI"
      },
      "source": [
        "CREATE MISSING DATA"
      ]
    },
    {
      "cell_type": "code",
      "metadata": {
        "id": "yp5C91U4V1N5",
        "colab": {
          "base_uri": "https://localhost:8080/",
          "height": 714
        },
        "outputId": "440621b4-e2a0-4eeb-ef92-9fcb8c0d4ee1"
      },
      "source": [
        "#reset data_scaled and set a new set of random missing numbers for weighted KNN(5)\n",
        "train_scaled['X1 Diff'] = train_scaled['X1 Diff'].sample(frac=0.50)\n",
        "train_scaled['X2 Diff'] = train_scaled['X2 Diff'].sample(frac=0.50)\n",
        "train_scaled['X3 Diff'] = train_scaled['X3 Diff'].sample(frac=0.50)\n",
        "train_scaled['X4 Diff'] = train_scaled['X4 Diff'].sample(frac=0.50)\n",
        "train_scaled['Odds'] = train_scaled['Odds'].sample(frac=0.50)\n",
        "train_scaled.head()"
      ],
      "execution_count": null,
      "outputs": [
        {
          "output_type": "stream",
          "text": [
            "/usr/local/lib/python3.6/dist-packages/ipykernel_launcher.py:2: SettingWithCopyWarning: \n",
            "A value is trying to be set on a copy of a slice from a DataFrame.\n",
            "Try using .loc[row_indexer,col_indexer] = value instead\n",
            "\n",
            "See the caveats in the documentation: https://pandas.pydata.org/pandas-docs/stable/user_guide/indexing.html#returning-a-view-versus-a-copy\n",
            "  \n",
            "/usr/local/lib/python3.6/dist-packages/ipykernel_launcher.py:3: SettingWithCopyWarning: \n",
            "A value is trying to be set on a copy of a slice from a DataFrame.\n",
            "Try using .loc[row_indexer,col_indexer] = value instead\n",
            "\n",
            "See the caveats in the documentation: https://pandas.pydata.org/pandas-docs/stable/user_guide/indexing.html#returning-a-view-versus-a-copy\n",
            "  This is separate from the ipykernel package so we can avoid doing imports until\n",
            "/usr/local/lib/python3.6/dist-packages/ipykernel_launcher.py:4: SettingWithCopyWarning: \n",
            "A value is trying to be set on a copy of a slice from a DataFrame.\n",
            "Try using .loc[row_indexer,col_indexer] = value instead\n",
            "\n",
            "See the caveats in the documentation: https://pandas.pydata.org/pandas-docs/stable/user_guide/indexing.html#returning-a-view-versus-a-copy\n",
            "  after removing the cwd from sys.path.\n",
            "/usr/local/lib/python3.6/dist-packages/ipykernel_launcher.py:5: SettingWithCopyWarning: \n",
            "A value is trying to be set on a copy of a slice from a DataFrame.\n",
            "Try using .loc[row_indexer,col_indexer] = value instead\n",
            "\n",
            "See the caveats in the documentation: https://pandas.pydata.org/pandas-docs/stable/user_guide/indexing.html#returning-a-view-versus-a-copy\n",
            "  \"\"\"\n",
            "/usr/local/lib/python3.6/dist-packages/ipykernel_launcher.py:6: SettingWithCopyWarning: \n",
            "A value is trying to be set on a copy of a slice from a DataFrame.\n",
            "Try using .loc[row_indexer,col_indexer] = value instead\n",
            "\n",
            "See the caveats in the documentation: https://pandas.pydata.org/pandas-docs/stable/user_guide/indexing.html#returning-a-view-versus-a-copy\n",
            "  \n"
          ],
          "name": "stderr"
        },
        {
          "output_type": "execute_result",
          "data": {
            "text/html": [
              "<div>\n",
              "<style scoped>\n",
              "    .dataframe tbody tr th:only-of-type {\n",
              "        vertical-align: middle;\n",
              "    }\n",
              "\n",
              "    .dataframe tbody tr th {\n",
              "        vertical-align: top;\n",
              "    }\n",
              "\n",
              "    .dataframe thead th {\n",
              "        text-align: right;\n",
              "    }\n",
              "</style>\n",
              "<table border=\"1\" class=\"dataframe\">\n",
              "  <thead>\n",
              "    <tr style=\"text-align: right;\">\n",
              "      <th></th>\n",
              "      <th>Unnamed: 0</th>\n",
              "      <th>X1 Diff</th>\n",
              "      <th>X2 Diff</th>\n",
              "      <th>X3 Diff</th>\n",
              "      <th>X4 Diff</th>\n",
              "      <th>Odds</th>\n",
              "    </tr>\n",
              "  </thead>\n",
              "  <tbody>\n",
              "    <tr>\n",
              "      <th>457</th>\n",
              "      <td>457</td>\n",
              "      <td>0.498054</td>\n",
              "      <td>0.535180</td>\n",
              "      <td>0.535714</td>\n",
              "      <td>NaN</td>\n",
              "      <td>0.186842</td>\n",
              "    </tr>\n",
              "    <tr>\n",
              "      <th>97</th>\n",
              "      <td>97</td>\n",
              "      <td>0.369958</td>\n",
              "      <td>0.539565</td>\n",
              "      <td>0.516484</td>\n",
              "      <td>NaN</td>\n",
              "      <td>0.223684</td>\n",
              "    </tr>\n",
              "    <tr>\n",
              "      <th>305</th>\n",
              "      <td>305</td>\n",
              "      <td>NaN</td>\n",
              "      <td>0.516145</td>\n",
              "      <td>NaN</td>\n",
              "      <td>NaN</td>\n",
              "      <td>0.136842</td>\n",
              "    </tr>\n",
              "    <tr>\n",
              "      <th>169</th>\n",
              "      <td>169</td>\n",
              "      <td>NaN</td>\n",
              "      <td>0.453857</td>\n",
              "      <td>NaN</td>\n",
              "      <td>0.351287</td>\n",
              "      <td>NaN</td>\n",
              "    </tr>\n",
              "    <tr>\n",
              "      <th>43</th>\n",
              "      <td>43</td>\n",
              "      <td>NaN</td>\n",
              "      <td>NaN</td>\n",
              "      <td>0.362637</td>\n",
              "      <td>NaN</td>\n",
              "      <td>NaN</td>\n",
              "    </tr>\n",
              "  </tbody>\n",
              "</table>\n",
              "</div>"
            ],
            "text/plain": [
              "     Unnamed: 0   X1 Diff   X2 Diff   X3 Diff   X4 Diff      Odds\n",
              "457         457  0.498054  0.535180  0.535714       NaN  0.186842\n",
              "97           97  0.369958  0.539565  0.516484       NaN  0.223684\n",
              "305         305       NaN  0.516145       NaN       NaN  0.136842\n",
              "169         169       NaN  0.453857       NaN  0.351287       NaN\n",
              "43           43       NaN       NaN  0.362637       NaN       NaN"
            ]
          },
          "metadata": {
            "tags": []
          },
          "execution_count": 73
        }
      ]
    },
    {
      "cell_type": "code",
      "metadata": {
        "id": "xn4euAV6V3rn",
        "colab": {
          "base_uri": "https://localhost:8080/"
        },
        "outputId": "5f2dd3ed-9e27-4b2e-90fd-4c40ecd6084b"
      },
      "source": [
        "train_scaled.isnull().sum()"
      ],
      "execution_count": null,
      "outputs": [
        {
          "output_type": "execute_result",
          "data": {
            "text/plain": [
              "Unnamed: 0      0\n",
              "X1 Diff       128\n",
              "X2 Diff       128\n",
              "X3 Diff       128\n",
              "X4 Diff       128\n",
              "Odds          128\n",
              "dtype: int64"
            ]
          },
          "metadata": {
            "tags": []
          },
          "execution_count": 74
        }
      ]
    },
    {
      "cell_type": "markdown",
      "metadata": {
        "id": "xfZnKgJAV50f"
      },
      "source": [
        "IMPUTE MISSING DATA"
      ]
    },
    {
      "cell_type": "code",
      "metadata": {
        "id": "SMZ7TGwkV9RK",
        "colab": {
          "base_uri": "https://localhost:8080/"
        },
        "outputId": "7e52fc0f-3a00-4dcc-f198-8f6ac14dcabd"
      },
      "source": [
        "#weights for weigted average\n",
        "#the closer distances are wegithed twice as heavily as the following distances\n",
        "#distance 1 is weighted twice as much as distance 2\n",
        "#distance 2 is weighted twice as much as distance 3\n",
        "\n",
        "a1 = 0.5161290323\n",
        "a2 = 0.2580645162\n",
        "a3 = 0.1290322581\n",
        "a4 = 0.06451612904\n",
        "a5 = 0.03225806452\n",
        "\n",
        "for i in range (0, 256):\n",
        "  #sets current row \n",
        "  row = train_scaled[['X1 Diff', 'X2 Diff', 'X3 Diff', 'X4 Diff', 'Odds']].iloc[i].values\n",
        "  distance = [] #resets distance to blank\n",
        "  #loops through the test set to create an array of distances\n",
        "  for j in test_scaled[['X1 Diff', 'X2 Diff', 'X3 Diff', 'X4 Diff', 'Odds']].values:\n",
        "    distance.append(euclidDis(row, j))\n",
        " \n",
        "  m1, m2, m3, m4, m5 = findFiveClosest(distance)\n",
        "  \n",
        "  avg = [] # resets avg list\n",
        "  #loops through to set average values\n",
        "  for a in range(0, 5):\n",
        "    avg.append((m1[a]*a1) + (m2[a]*a2) + (m3[a]*a3) + (m4[a]*a4) + (m5[a]*a5)) \n",
        "\n",
        "  for x in range(0, 5):\n",
        "    if math.isnan(row[x]):\n",
        "      row[x] = m[x]\n",
        "\n",
        "  train_scaled['X1 Diff'].iloc[i] = row[0]\n",
        "  train_scaled['X2 Diff'].iloc[i] = row[1]\n",
        "  train_scaled['X3 Diff'].iloc[i] = row[2]\n",
        "  train_scaled['X4 Diff'].iloc[i] = row[3]\n",
        "  train_scaled['Odds'].iloc[i] = row[4]"
      ],
      "execution_count": null,
      "outputs": [
        {
          "output_type": "stream",
          "text": [
            "/usr/local/lib/python3.6/dist-packages/pandas/core/indexing.py:670: SettingWithCopyWarning: \n",
            "A value is trying to be set on a copy of a slice from a DataFrame\n",
            "\n",
            "See the caveats in the documentation: https://pandas.pydata.org/pandas-docs/stable/user_guide/indexing.html#returning-a-view-versus-a-copy\n",
            "  iloc._setitem_with_indexer(indexer, value)\n",
            "/usr/local/lib/python3.6/dist-packages/ipykernel_launcher.py:31: SettingWithCopyWarning: \n",
            "A value is trying to be set on a copy of a slice from a DataFrame\n",
            "\n",
            "See the caveats in the documentation: https://pandas.pydata.org/pandas-docs/stable/user_guide/indexing.html#returning-a-view-versus-a-copy\n",
            "/usr/local/lib/python3.6/dist-packages/ipykernel_launcher.py:32: SettingWithCopyWarning: \n",
            "A value is trying to be set on a copy of a slice from a DataFrame\n",
            "\n",
            "See the caveats in the documentation: https://pandas.pydata.org/pandas-docs/stable/user_guide/indexing.html#returning-a-view-versus-a-copy\n",
            "/usr/local/lib/python3.6/dist-packages/ipykernel_launcher.py:33: SettingWithCopyWarning: \n",
            "A value is trying to be set on a copy of a slice from a DataFrame\n",
            "\n",
            "See the caveats in the documentation: https://pandas.pydata.org/pandas-docs/stable/user_guide/indexing.html#returning-a-view-versus-a-copy\n",
            "/usr/local/lib/python3.6/dist-packages/ipykernel_launcher.py:34: SettingWithCopyWarning: \n",
            "A value is trying to be set on a copy of a slice from a DataFrame\n",
            "\n",
            "See the caveats in the documentation: https://pandas.pydata.org/pandas-docs/stable/user_guide/indexing.html#returning-a-view-versus-a-copy\n",
            "/usr/local/lib/python3.6/dist-packages/ipykernel_launcher.py:35: SettingWithCopyWarning: \n",
            "A value is trying to be set on a copy of a slice from a DataFrame\n",
            "\n",
            "See the caveats in the documentation: https://pandas.pydata.org/pandas-docs/stable/user_guide/indexing.html#returning-a-view-versus-a-copy\n"
          ],
          "name": "stderr"
        }
      ]
    },
    {
      "cell_type": "code",
      "metadata": {
        "id": "LMZ7Gsk5WAHs",
        "colab": {
          "base_uri": "https://localhost:8080/"
        },
        "outputId": "1ec260cc-e82e-424c-daac-46b87b4293f4"
      },
      "source": [
        "train_scaled.isnull().sum()"
      ],
      "execution_count": null,
      "outputs": [
        {
          "output_type": "execute_result",
          "data": {
            "text/plain": [
              "Unnamed: 0    0\n",
              "X1 Diff       0\n",
              "X2 Diff       0\n",
              "X3 Diff       0\n",
              "X4 Diff       0\n",
              "Odds          0\n",
              "dtype: int64"
            ]
          },
          "metadata": {
            "tags": []
          },
          "execution_count": 76
        }
      ]
    },
    {
      "cell_type": "code",
      "metadata": {
        "id": "P7GwYjkrWA37",
        "colab": {
          "base_uri": "https://localhost:8080/",
          "height": 204
        },
        "outputId": "7888f009-e346-4d78-93e9-4a930e7d2f83"
      },
      "source": [
        "result = train_scaled.append(test_scaled)\n",
        "result.head()"
      ],
      "execution_count": null,
      "outputs": [
        {
          "output_type": "execute_result",
          "data": {
            "text/html": [
              "<div>\n",
              "<style scoped>\n",
              "    .dataframe tbody tr th:only-of-type {\n",
              "        vertical-align: middle;\n",
              "    }\n",
              "\n",
              "    .dataframe tbody tr th {\n",
              "        vertical-align: top;\n",
              "    }\n",
              "\n",
              "    .dataframe thead th {\n",
              "        text-align: right;\n",
              "    }\n",
              "</style>\n",
              "<table border=\"1\" class=\"dataframe\">\n",
              "  <thead>\n",
              "    <tr style=\"text-align: right;\">\n",
              "      <th></th>\n",
              "      <th>Unnamed: 0</th>\n",
              "      <th>X1 Diff</th>\n",
              "      <th>X2 Diff</th>\n",
              "      <th>X3 Diff</th>\n",
              "      <th>X4 Diff</th>\n",
              "      <th>Odds</th>\n",
              "    </tr>\n",
              "  </thead>\n",
              "  <tbody>\n",
              "    <tr>\n",
              "      <th>457</th>\n",
              "      <td>457</td>\n",
              "      <td>0.498054</td>\n",
              "      <td>0.535180</td>\n",
              "      <td>0.535714</td>\n",
              "      <td>0.492118</td>\n",
              "      <td>0.186842</td>\n",
              "    </tr>\n",
              "    <tr>\n",
              "      <th>97</th>\n",
              "      <td>97</td>\n",
              "      <td>0.369958</td>\n",
              "      <td>0.539565</td>\n",
              "      <td>0.516484</td>\n",
              "      <td>0.492118</td>\n",
              "      <td>0.223684</td>\n",
              "    </tr>\n",
              "    <tr>\n",
              "      <th>305</th>\n",
              "      <td>305</td>\n",
              "      <td>0.562810</td>\n",
              "      <td>0.516145</td>\n",
              "      <td>0.434066</td>\n",
              "      <td>0.492118</td>\n",
              "      <td>0.136842</td>\n",
              "    </tr>\n",
              "    <tr>\n",
              "      <th>169</th>\n",
              "      <td>169</td>\n",
              "      <td>0.562810</td>\n",
              "      <td>0.453857</td>\n",
              "      <td>0.434066</td>\n",
              "      <td>0.351287</td>\n",
              "      <td>0.121053</td>\n",
              "    </tr>\n",
              "    <tr>\n",
              "      <th>43</th>\n",
              "      <td>43</td>\n",
              "      <td>0.562810</td>\n",
              "      <td>0.479669</td>\n",
              "      <td>0.362637</td>\n",
              "      <td>0.492118</td>\n",
              "      <td>0.121053</td>\n",
              "    </tr>\n",
              "  </tbody>\n",
              "</table>\n",
              "</div>"
            ],
            "text/plain": [
              "     Unnamed: 0   X1 Diff   X2 Diff   X3 Diff   X4 Diff      Odds\n",
              "457         457  0.498054  0.535180  0.535714  0.492118  0.186842\n",
              "97           97  0.369958  0.539565  0.516484  0.492118  0.223684\n",
              "305         305  0.562810  0.516145  0.434066  0.492118  0.136842\n",
              "169         169  0.562810  0.453857  0.434066  0.351287  0.121053\n",
              "43           43  0.562810  0.479669  0.362637  0.492118  0.121053"
            ]
          },
          "metadata": {
            "tags": []
          },
          "execution_count": 77
        }
      ]
    },
    {
      "cell_type": "markdown",
      "metadata": {
        "id": "M0xmaiCcWDMX"
      },
      "source": [
        "CALCULATE MSE"
      ]
    },
    {
      "cell_type": "code",
      "metadata": {
        "id": "Tbl4D9SDWE7U",
        "colab": {
          "base_uri": "https://localhost:8080/"
        },
        "outputId": "d0745b53-3066-4c6d-e15b-6b5a7b9b0a65"
      },
      "source": [
        "#calculate accruacy for WEIGHTED KNN(3)\n",
        "#result and data_accuracy\n",
        "mse = 0\n",
        "\n",
        "for i in range (0, 512):\n",
        "  observed = data_accuracy[['X1 Diff', 'X2 Diff', 'X3 Diff', 'X4 Diff', 'Odds']].iloc[i].values\n",
        "  predicted = result[['X1 Diff', 'X2 Diff', 'X3 Diff', 'X4 Diff', 'Odds']].iloc[i].values\n",
        "  \n",
        "  for x in range (0, 5):\n",
        "    mse += ((observed[x] - predicted[x])**2) \n",
        "\n",
        "mse = mse * (1/len(result))   \n",
        "  \n",
        "print(mse)"
      ],
      "execution_count": null,
      "outputs": [
        {
          "output_type": "stream",
          "text": [
            "0.025455049783568957\n"
          ],
          "name": "stdout"
        }
      ]
    }
  ]
}